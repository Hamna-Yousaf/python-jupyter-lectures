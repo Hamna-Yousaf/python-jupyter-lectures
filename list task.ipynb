{
 "cells": [
  {
   "cell_type": "code",
   "execution_count": 1,
   "id": "639bc03d",
   "metadata": {},
   "outputs": [
    {
     "data": {
      "text/plain": [
       "list"
      ]
     },
     "execution_count": 1,
     "metadata": {},
     "output_type": "execute_result"
    }
   ],
   "source": [
    "fruits=['apple','grapes','mango','bnana','orange']\n",
    "type(fruits)\n"
   ]
  },
  {
   "cell_type": "code",
   "execution_count": 2,
   "id": "dde4f928",
   "metadata": {},
   "outputs": [
    {
     "name": "stdout",
     "output_type": "stream",
     "text": [
      "the fruits is: ['apple', 'grapes', 'mango', 'bnana', 'orange']\n"
     ]
    }
   ],
   "source": [
    "print('the fruits is:',fruits)"
   ]
  },
  {
   "cell_type": "code",
   "execution_count": 3,
   "id": "35cf68de",
   "metadata": {},
   "outputs": [
    {
     "data": {
      "text/plain": [
       "['apple', 'grapes', 'mango', 'bnana', 'orange', 'water melon']"
      ]
     },
     "execution_count": 3,
     "metadata": {},
     "output_type": "execute_result"
    }
   ],
   "source": [
    "fruits.append('water melon') #adding index\n",
    "fruits"
   ]
  },
  {
   "cell_type": "code",
   "execution_count": 11,
   "id": "a07eb4a5",
   "metadata": {},
   "outputs": [
    {
     "name": "stdout",
     "output_type": "stream",
     "text": [
      "please enter any item of fruits:mango\n",
      "the item of fruits is mango\n"
     ]
    }
   ],
   "source": [
    "fruits=[]\n",
    "item=input('please enter any item of fruits:')\n",
    "\n",
    "print('the item of fruits is',item)\n"
   ]
  },
  {
   "cell_type": "code",
   "execution_count": null,
   "id": "41529d75",
   "metadata": {},
   "outputs": [],
   "source": []
  }
 ],
 "metadata": {
  "kernelspec": {
   "display_name": "Python 3 (ipykernel)",
   "language": "python",
   "name": "python3"
  },
  "language_info": {
   "codemirror_mode": {
    "name": "ipython",
    "version": 3
   },
   "file_extension": ".py",
   "mimetype": "text/x-python",
   "name": "python",
   "nbconvert_exporter": "python",
   "pygments_lexer": "ipython3",
   "version": "3.11.3"
  }
 },
 "nbformat": 4,
 "nbformat_minor": 5
}

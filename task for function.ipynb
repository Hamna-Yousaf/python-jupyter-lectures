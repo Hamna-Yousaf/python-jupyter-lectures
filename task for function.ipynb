{
 "cells": [
  {
   "cell_type": "code",
   "execution_count": 26,
   "id": "3e1a27d3",
   "metadata": {},
   "outputs": [
    {
     "name": "stdout",
     "output_type": "stream",
     "text": [
      "which shape do you want in area ? :parallelogram\n",
      "enter 1.for rectangle \n",
      " 2.for square \n",
      " 3.for triangle \n",
      " 4.for parallelogram :4\n",
      "please enter a value of breadth:2\n",
      "please enter a value of base:6\n",
      "please enter a value of side:8\n",
      "please enter a value of length:9\n",
      "please enter a value of height:4\n",
      "the parallelogram is 24\n"
     ]
    }
   ],
   "source": [
    "area=(input(\"which shape do you want in area ? :\"))\n",
    "\n",
    "\n",
    "choice=int(input(\"enter 1.for rectangle \\n 2.for square \\n 3.for triangle \\n 4.for parallelogram :\"))\n",
    "\n",
    "breadth=int(input(\"please enter a value of breadth:\"))\n",
    "base=int(input(\"please enter a value of base:\"))\n",
    "side=int(input(\"please enter a value of side:\"))\n",
    "length=int(input(\"please enter a value of length:\"))\n",
    "height=int(input(\"please enter a value of height:\"))\n",
    "\n",
    "\n",
    "if(choice == 1):\n",
    "    rectangle = length*breadth\n",
    "    print(\"the rectangle is\",rectangle)\n",
    "elif(choice == 2):\n",
    "    square = side*side\n",
    "    print(\"the square is\",square)\n",
    "elif(choice == 3):\n",
    "    triangle = 1/2*(base*height)\n",
    "    print(\"the triangle is\",triangle)\n",
    "elif(choice == 4):\n",
    "    parallelogram = base*height\n",
    "    print(\"the parallelogram is\",parallelogram)\n",
    "else:\n",
    "    print(\"invalid area\")"
   ]
  },
  {
   "cell_type": "code",
   "execution_count": 3,
   "id": "ceb7e6a0",
   "metadata": {},
   "outputs": [],
   "source": [
    "def input_var():\n",
    "    area=(input(\"which shape do you want in area:\"))\n",
    "    return area\n",
    "\n",
    "def choice():\n",
    "    choice=int(input(\"enter 1.for rectangle \\n 2.for square \\n 3.for triangle \\n 4.for parallelogram\"))\n",
    "    \n",
    "    breadth=int(input(\"please enter a value of breadth:\"))\n",
    "    side=int(input(\"please enter a value of side:\"))\n",
    "    base=int(input(\"please enter a value of base:\"))\n",
    "    length=int(input(\"please enter a value of length:\"))\n",
    "    height=int(input(\"please enter a value of height:\"))\n",
    "\n",
    "    return length,breadth,side,base,height,choice\n",
    "\n",
    "def calculation(area,length,breadth,side,base,height,choice):\n",
    "    if(choice == 1):\n",
    "        rectangle = length*breadth\n",
    "        print(\"the rectangle is\",rectangle)\n",
    "    elif(choice == 2):\n",
    "        square = side*side\n",
    "        print(\"the square is\",square)\n",
    "    elif(choice == 3):\n",
    "        triangle = 1/2*(base*height)\n",
    "        print(\"the triangle is\",triangle)\n",
    "    elif(choice == 4):\n",
    "        parallelogram = base*height\n",
    "        \n",
    "        print(\"the parallelogram is\",parallelogram)\n",
    "    else:\n",
    "        print(\"invalid area\")"
   ]
  },
  {
   "cell_type": "code",
   "execution_count": 4,
   "id": "da1e08fa",
   "metadata": {},
   "outputs": [
    {
     "name": "stdout",
     "output_type": "stream",
     "text": [
      "which shape do you want in area:45\n",
      "enter 1.for rectangle \n",
      " 2.for square \n",
      " 3.for triangle \n",
      " 4.for parallelogram2\n",
      "please enter a value of breadth:5\n",
      "please enter a value of side:6\n",
      "please enter a value of base:6\n",
      "please enter a value of length:7\\\n"
     ]
    },
    {
     "ename": "ValueError",
     "evalue": "invalid literal for int() with base 10: '7\\\\'",
     "output_type": "error",
     "traceback": [
      "\u001b[1;31m---------------------------------------------------------------------------\u001b[0m",
      "\u001b[1;31mValueError\u001b[0m                                Traceback (most recent call last)",
      "Cell \u001b[1;32mIn[4], line 2\u001b[0m\n\u001b[0;32m      1\u001b[0m area\u001b[38;5;241m=\u001b[39minput_var()\n\u001b[1;32m----> 2\u001b[0m choice\u001b[38;5;241m=\u001b[39mchoice()\n\u001b[0;32m      3\u001b[0m calculation(area,choice)\n",
      "Cell \u001b[1;32mIn[3], line 11\u001b[0m, in \u001b[0;36mchoice\u001b[1;34m()\u001b[0m\n\u001b[0;32m      9\u001b[0m side\u001b[38;5;241m=\u001b[39m\u001b[38;5;28mint\u001b[39m(\u001b[38;5;28minput\u001b[39m(\u001b[38;5;124m\"\u001b[39m\u001b[38;5;124mplease enter a value of side:\u001b[39m\u001b[38;5;124m\"\u001b[39m))\n\u001b[0;32m     10\u001b[0m base\u001b[38;5;241m=\u001b[39m\u001b[38;5;28mint\u001b[39m(\u001b[38;5;28minput\u001b[39m(\u001b[38;5;124m\"\u001b[39m\u001b[38;5;124mplease enter a value of base:\u001b[39m\u001b[38;5;124m\"\u001b[39m))\n\u001b[1;32m---> 11\u001b[0m length\u001b[38;5;241m=\u001b[39m\u001b[38;5;28mint\u001b[39m(\u001b[38;5;28minput\u001b[39m(\u001b[38;5;124m\"\u001b[39m\u001b[38;5;124mplease enter a value of length:\u001b[39m\u001b[38;5;124m\"\u001b[39m))\n\u001b[0;32m     12\u001b[0m height\u001b[38;5;241m=\u001b[39m\u001b[38;5;28mint\u001b[39m(\u001b[38;5;28minput\u001b[39m(\u001b[38;5;124m\"\u001b[39m\u001b[38;5;124mplease enter a value of height:\u001b[39m\u001b[38;5;124m\"\u001b[39m))\n\u001b[0;32m     14\u001b[0m \u001b[38;5;28;01mreturn\u001b[39;00m length,breadth,side,base,height,choice\n",
      "\u001b[1;31mValueError\u001b[0m: invalid literal for int() with base 10: '7\\\\'"
     ]
    }
   ],
   "source": [
    "area=input_var()\n",
    "choice=choice()\n",
    "calculation(area,choice)"
   ]
  },
  {
   "cell_type": "code",
   "execution_count": null,
   "id": "4b3ab73d",
   "metadata": {},
   "outputs": [],
   "source": [
    "choice = int(input((\"which shape of you want to find area:\\n 1. for rectange \\n 2 for square\"))\n",
    "if (choice ==1):\n",
    "             "
   ]
  },
  {
   "cell_type": "markdown",
   "id": "82607346",
   "metadata": {},
   "source": []
  }
 ],
 "metadata": {
  "kernelspec": {
   "display_name": "Python 3 (ipykernel)",
   "language": "python",
   "name": "python3"
  },
  "language_info": {
   "codemirror_mode": {
    "name": "ipython",
    "version": 3
   },
   "file_extension": ".py",
   "mimetype": "text/x-python",
   "name": "python",
   "nbconvert_exporter": "python",
   "pygments_lexer": "ipython3",
   "version": "3.11.3"
  }
 },
 "nbformat": 4,
 "nbformat_minor": 5
}

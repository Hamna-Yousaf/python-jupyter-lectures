{
 "cells": [
  {
   "cell_type": "markdown",
   "id": "0c866c69",
   "metadata": {},
   "source": [
    "# Contact Management System"
   ]
  },
  {
   "cell_type": "code",
   "execution_count": 60,
   "id": "322ad2a3",
   "metadata": {},
   "outputs": [],
   "source": [
    "Contact = dict()\n",
    "def Data():\n",
    "    Name = input(\"Please enter name:\")\n",
    "    Contact = int(input(\"Please enter contact\"))\n",
    "    return Name,Contact"
   ]
  },
  {
   "cell_type": "code",
   "execution_count": 61,
   "id": "b2ef461e",
   "metadata": {},
   "outputs": [],
   "source": [
    "def add():\n",
    "    Name = input(\"Please enter name:\")\n",
    "    Contact = int(input(\"Please enter contact\"))\n",
    "    Contact.append()"
   ]
  },
  {
   "cell_type": "code",
   "execution_count": 62,
   "id": "ce63ae24",
   "metadata": {},
   "outputs": [],
   "source": [
    "def remove():\n",
    "    Name = input(\"Please enter name:\")\n",
    "    Contact = int(input(\"Please enter contact\"))\n",
    "    Contact.clear()"
   ]
  },
  {
   "cell_type": "code",
   "execution_count": 63,
   "id": "0bbf109d",
   "metadata": {},
   "outputs": [],
   "source": [
    "def search():\n",
    "    Name = input(\"Please enter name:\")\n",
    "    Contact = int(input(\"Please enter contact\"))\n",
    "    if 'Name' in Contact:\n",
    "        print(found)"
   ]
  },
  {
   "cell_type": "code",
   "execution_count": null,
   "id": "9dd5c30d",
   "metadata": {},
   "outputs": [],
   "source": []
  },
  {
   "cell_type": "code",
   "execution_count": 64,
   "id": "9722f041",
   "metadata": {},
   "outputs": [],
   "source": [
    "def update():\n",
    "    Name = input(\"Please enter name:\")\n",
    "    Contact = int(input(\"Please enter contact\"))\n",
    "    Contact.update()"
   ]
  },
  {
   "cell_type": "code",
   "execution_count": 70,
   "id": "7ac04622",
   "metadata": {},
   "outputs": [],
   "source": [
    "def Choice():\n",
    "    ch = int(input(\"Press 1 for addition\\n 2 for deletion\\n 3 for updation\\n 4 for search\"))\n",
    "    return ch\n",
    "def calculation(Choice):\n",
    "    if(Choice == 1):\n",
    "        A = add()\n",
    "        print(A)\n",
    "    elif(Choice == 2):\n",
    "        R = remove()\n",
    "        \n",
    "    elif(Choice == 3):\n",
    "        U = update()\n",
    "        print(U)\n",
    "    elif(Choice == 4):\n",
    "        S = search()\n",
    "        print(S)\n",
    "    else:\n",
    "        (\"Please enter valid Answer\")\n",
    "        \n",
    "    "
   ]
  },
  {
   "cell_type": "markdown",
   "id": "93ad6732",
   "metadata": {},
   "source": [
    "# Program\n"
   ]
  },
  {
   "cell_type": "code",
   "execution_count": 80,
   "id": "f95b8653",
   "metadata": {},
   "outputs": [
    {
     "ename": "KeyboardInterrupt",
     "evalue": "Interrupted by user",
     "output_type": "error",
     "traceback": [
      "\u001b[1;31m---------------------------------------------------------------------------\u001b[0m",
      "\u001b[1;31mKeyboardInterrupt\u001b[0m                         Traceback (most recent call last)",
      "Cell \u001b[1;32mIn[80], line 2\u001b[0m\n\u001b[0;32m      1\u001b[0m Contact \u001b[38;5;241m=\u001b[39m \u001b[38;5;28mdict\u001b[39m()\n\u001b[1;32m----> 2\u001b[0m D \u001b[38;5;241m=\u001b[39m Data()\n\u001b[0;32m      3\u001b[0m C\u001b[38;5;241m=\u001b[39m Choice()\n\u001b[0;32m      4\u001b[0m cal \u001b[38;5;241m=\u001b[39m calculation(C)\n",
      "Cell \u001b[1;32mIn[60], line 3\u001b[0m, in \u001b[0;36mData\u001b[1;34m()\u001b[0m\n\u001b[0;32m      2\u001b[0m \u001b[38;5;28;01mdef\u001b[39;00m \u001b[38;5;21mData\u001b[39m():\n\u001b[1;32m----> 3\u001b[0m     Name \u001b[38;5;241m=\u001b[39m \u001b[38;5;28minput\u001b[39m(\u001b[38;5;124m\"\u001b[39m\u001b[38;5;124mPlease enter name:\u001b[39m\u001b[38;5;124m\"\u001b[39m)\n\u001b[0;32m      4\u001b[0m     Contact \u001b[38;5;241m=\u001b[39m \u001b[38;5;28mint\u001b[39m(\u001b[38;5;28minput\u001b[39m(\u001b[38;5;124m\"\u001b[39m\u001b[38;5;124mPlease enter contact\u001b[39m\u001b[38;5;124m\"\u001b[39m))\n\u001b[0;32m      5\u001b[0m     \u001b[38;5;28;01mreturn\u001b[39;00m Name,Contact\n",
      "File \u001b[1;32mC:\\ProgramData\\anaconda3\\Lib\\site-packages\\ipykernel\\kernelbase.py:1175\u001b[0m, in \u001b[0;36mKernel.raw_input\u001b[1;34m(self, prompt)\u001b[0m\n\u001b[0;32m   1171\u001b[0m \u001b[38;5;28;01mif\u001b[39;00m \u001b[38;5;129;01mnot\u001b[39;00m \u001b[38;5;28mself\u001b[39m\u001b[38;5;241m.\u001b[39m_allow_stdin:\n\u001b[0;32m   1172\u001b[0m     \u001b[38;5;28;01mraise\u001b[39;00m StdinNotImplementedError(\n\u001b[0;32m   1173\u001b[0m         \u001b[38;5;124m\"\u001b[39m\u001b[38;5;124mraw_input was called, but this frontend does not support input requests.\u001b[39m\u001b[38;5;124m\"\u001b[39m\n\u001b[0;32m   1174\u001b[0m     )\n\u001b[1;32m-> 1175\u001b[0m \u001b[38;5;28;01mreturn\u001b[39;00m \u001b[38;5;28mself\u001b[39m\u001b[38;5;241m.\u001b[39m_input_request(\n\u001b[0;32m   1176\u001b[0m     \u001b[38;5;28mstr\u001b[39m(prompt),\n\u001b[0;32m   1177\u001b[0m     \u001b[38;5;28mself\u001b[39m\u001b[38;5;241m.\u001b[39m_parent_ident[\u001b[38;5;124m\"\u001b[39m\u001b[38;5;124mshell\u001b[39m\u001b[38;5;124m\"\u001b[39m],\n\u001b[0;32m   1178\u001b[0m     \u001b[38;5;28mself\u001b[39m\u001b[38;5;241m.\u001b[39mget_parent(\u001b[38;5;124m\"\u001b[39m\u001b[38;5;124mshell\u001b[39m\u001b[38;5;124m\"\u001b[39m),\n\u001b[0;32m   1179\u001b[0m     password\u001b[38;5;241m=\u001b[39m\u001b[38;5;28;01mFalse\u001b[39;00m,\n\u001b[0;32m   1180\u001b[0m )\n",
      "File \u001b[1;32mC:\\ProgramData\\anaconda3\\Lib\\site-packages\\ipykernel\\kernelbase.py:1217\u001b[0m, in \u001b[0;36mKernel._input_request\u001b[1;34m(self, prompt, ident, parent, password)\u001b[0m\n\u001b[0;32m   1214\u001b[0m             \u001b[38;5;28;01mbreak\u001b[39;00m\n\u001b[0;32m   1215\u001b[0m \u001b[38;5;28;01mexcept\u001b[39;00m \u001b[38;5;167;01mKeyboardInterrupt\u001b[39;00m:\n\u001b[0;32m   1216\u001b[0m     \u001b[38;5;66;03m# re-raise KeyboardInterrupt, to truncate traceback\u001b[39;00m\n\u001b[1;32m-> 1217\u001b[0m     \u001b[38;5;28;01mraise\u001b[39;00m \u001b[38;5;167;01mKeyboardInterrupt\u001b[39;00m(\u001b[38;5;124m\"\u001b[39m\u001b[38;5;124mInterrupted by user\u001b[39m\u001b[38;5;124m\"\u001b[39m) \u001b[38;5;28;01mfrom\u001b[39;00m \u001b[38;5;28;01mNone\u001b[39;00m\n\u001b[0;32m   1218\u001b[0m \u001b[38;5;28;01mexcept\u001b[39;00m \u001b[38;5;167;01mException\u001b[39;00m:\n\u001b[0;32m   1219\u001b[0m     \u001b[38;5;28mself\u001b[39m\u001b[38;5;241m.\u001b[39mlog\u001b[38;5;241m.\u001b[39mwarning(\u001b[38;5;124m\"\u001b[39m\u001b[38;5;124mInvalid Message:\u001b[39m\u001b[38;5;124m\"\u001b[39m, exc_info\u001b[38;5;241m=\u001b[39m\u001b[38;5;28;01mTrue\u001b[39;00m)\n",
      "\u001b[1;31mKeyboardInterrupt\u001b[0m: Interrupted by user"
     ]
    }
   ],
   "source": [
    "Contact = dict()\n",
    "D = Data()\n",
    "C= Choice()\n",
    "cal = calculation(C)"
   ]
  },
  {
   "cell_type": "code",
   "execution_count": null,
   "id": "75801f5e",
   "metadata": {},
   "outputs": [],
   "source": []
  }
 ],
 "metadata": {
  "kernelspec": {
   "display_name": "Python 3 (ipykernel)",
   "language": "python",
   "name": "python3"
  },
  "language_info": {
   "codemirror_mode": {
    "name": "ipython",
    "version": 3
   },
   "file_extension": ".py",
   "mimetype": "text/x-python",
   "name": "python",
   "nbconvert_exporter": "python",
   "pygments_lexer": "ipython3",
   "version": "3.11.3"
  }
 },
 "nbformat": 4,
 "nbformat_minor": 5
}

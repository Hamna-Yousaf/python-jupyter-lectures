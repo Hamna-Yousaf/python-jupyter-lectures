{
 "cells": [
  {
   "cell_type": "markdown",
   "id": "0c866c69",
   "metadata": {},
   "source": [
    "# Contact Management System"
   ]
  },
  {
   "cell_type": "code",
   "execution_count": 60,
   "id": "322ad2a3",
   "metadata": {},
   "outputs": [],
   "source": [
    "Contact = dict()\n",
    "def Data():\n",
    "    Name = input(\"Please enter name:\")\n",
    "    Contact = int(input(\"Please enter contact\"))\n",
    "    return Name,Contact"
   ]
  },
  {
   "cell_type": "code",
   "execution_count": 1,
   "id": "b2ef461e",
   "metadata": {},
   "outputs": [],
   "source": [
    "def add():\n",
    "    Name = input(\"Please enter name:\")\n",
    "    Contact = int(input(\"Please enter contact\"))\n",
    "    Contact[Name] = {\"Contact\":Contact}\n",
    "    \n"
   ]
  },
  {
   "cell_type": "code",
   "execution_count": 62,
   "id": "ce63ae24",
   "metadata": {},
   "outputs": [],
   "source": [
    "def remove():\n",
    "    Name = input(\"Please enter name:\")\n",
    "    Contact = int(input(\"Please enter contact\"))\n",
    "    Contact.clear()"
   ]
  },
  {
   "cell_type": "code",
   "execution_count": 63,
   "id": "0bbf109d",
   "metadata": {},
   "outputs": [],
   "source": [
    "def search():\n",
    "    Name = input(\"Please enter name:\")\n",
    "    Contact = int(input(\"Please enter contact\"))\n",
    "    if 'Name' in Contact:\n",
    "        print(found)"
   ]
  },
  {
   "cell_type": "code",
   "execution_count": null,
   "id": "9dd5c30d",
   "metadata": {},
   "outputs": [],
   "source": []
  },
  {
   "cell_type": "code",
   "execution_count": 64,
   "id": "9722f041",
   "metadata": {},
   "outputs": [],
   "source": [
    "def update():\n",
    "    Name = input(\"Please enter name:\")\n",
    "    Contact = int(input(\"Please enter contact\"))\n",
    "    Contact.update()"
   ]
  },
  {
   "cell_type": "code",
   "execution_count": 70,
   "id": "7ac04622",
   "metadata": {},
   "outputs": [],
   "source": [
    "def Choice():\n",
    "    ch = int(input(\"Press 1 for addition\\n 2 for deletion\\n 3 for updation\\n 4 for search\"))\n",
    "    return ch\n",
    "def calculation(Choice):\n",
    "    if(Choice == 1):\n",
    "        A = add()\n",
    "        print(A)\n",
    "    elif(Choice == 2):\n",
    "        R = remove()\n",
    "        \n",
    "    elif(Choice == 3):\n",
    "        U = update()\n",
    "        print(U)\n",
    "    elif(Choice == 4):\n",
    "        S = search()\n",
    "        print(S)\n",
    "    else:\n",
    "        (\"Please enter valid Answer\")\n",
    "        \n",
    "    "
   ]
  },
  {
   "cell_type": "markdown",
   "id": "93ad6732",
   "metadata": {},
   "source": [
    "# Program\n"
   ]
  },
  {
   "cell_type": "code",
   "execution_count": 3,
   "id": "f95b8653",
   "metadata": {},
   "outputs": [
    {
     "ename": "NameError",
     "evalue": "name 'Data' is not defined",
     "output_type": "error",
     "traceback": [
      "\u001b[1;31m---------------------------------------------------------------------------\u001b[0m",
      "\u001b[1;31mNameError\u001b[0m                                 Traceback (most recent call last)",
      "Cell \u001b[1;32mIn[3], line 2\u001b[0m\n\u001b[0;32m      1\u001b[0m Contact \u001b[38;5;241m=\u001b[39m \u001b[38;5;28mdict\u001b[39m()\n\u001b[1;32m----> 2\u001b[0m D \u001b[38;5;241m=\u001b[39m Data()\n\u001b[0;32m      3\u001b[0m C\u001b[38;5;241m=\u001b[39m Choice()\n\u001b[0;32m      4\u001b[0m cal \u001b[38;5;241m=\u001b[39m calculation(C)\n",
      "\u001b[1;31mNameError\u001b[0m: name 'Data' is not defined"
     ]
    }
   ],
   "source": [
    "Contact = dict()\n",
    "D = Data()\n",
    "C= Choice()\n",
    "cal = calculation(C)"
   ]
  },
  {
   "cell_type": "code",
   "execution_count": null,
   "id": "75801f5e",
   "metadata": {},
   "outputs": [],
   "source": []
  }
 ],
 "metadata": {
  "kernelspec": {
   "display_name": "Python 3 (ipykernel)",
   "language": "python",
   "name": "python3"
  },
  "language_info": {
   "codemirror_mode": {
    "name": "ipython",
    "version": 3
   },
   "file_extension": ".py",
   "mimetype": "text/x-python",
   "name": "python",
   "nbconvert_exporter": "python",
   "pygments_lexer": "ipython3",
   "version": "3.11.3"
  }
 },
 "nbformat": 4,
 "nbformat_minor": 5
}

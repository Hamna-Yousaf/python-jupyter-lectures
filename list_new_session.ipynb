{
 "cells": [
  {
   "cell_type": "code",
   "execution_count": 1,
   "id": "25d59d89",
   "metadata": {},
   "outputs": [],
   "source": [
    "# welcome to list final session"
   ]
  },
  {
   "cell_type": "code",
   "execution_count": 2,
   "id": "10d3bd70",
   "metadata": {},
   "outputs": [],
   "source": [
    "names=['ali','usman','ahmad','bilal','yahya','waqas']"
   ]
  },
  {
   "cell_type": "code",
   "execution_count": 4,
   "id": "89f56cd0",
   "metadata": {},
   "outputs": [
    {
     "data": {
      "text/plain": [
       "['ahmad', 'ali', 'bilal', 'usman', 'waqas', 'yahya']"
      ]
     },
     "execution_count": 4,
     "metadata": {},
     "output_type": "execute_result"
    }
   ],
   "source": [
    "names.sort()\n",
    "names"
   ]
  },
  {
   "cell_type": "code",
   "execution_count": 5,
   "id": "ba2dff07",
   "metadata": {},
   "outputs": [
    {
     "data": {
      "text/plain": [
       "[45, 23, 35, 50]"
      ]
     },
     "execution_count": 5,
     "metadata": {},
     "output_type": "execute_result"
    }
   ],
   "source": [
    "ages=[45,23,35,50]\n",
    "ages"
   ]
  },
  {
   "cell_type": "code",
   "execution_count": 6,
   "id": "17590bce",
   "metadata": {},
   "outputs": [
    {
     "data": {
      "text/plain": [
       "[23, 35, 45, 50]"
      ]
     },
     "execution_count": 6,
     "metadata": {},
     "output_type": "execute_result"
    }
   ],
   "source": [
    "ages.sort()\n",
    "ages"
   ]
  },
  {
   "cell_type": "code",
   "execution_count": 7,
   "id": "268e90c9",
   "metadata": {},
   "outputs": [],
   "source": [
    "# task"
   ]
  },
  {
   "cell_type": "code",
   "execution_count": 8,
   "id": "50bf7d51",
   "metadata": {},
   "outputs": [
    {
     "name": "stdout",
     "output_type": "stream",
     "text": [
      "please enter a name of guests if no any guest left then enter DONE:ali\n",
      "please enter a name of guests if no any guest left then enter DONE:ahmad\n",
      "please enter a name of guests if no any guest left then enter DONE:ahsan\n",
      "please enter a name of guests if no any guest left then enter DONE:waqas\n",
      "please enter a name of guests if no any guest left then enter DONE:bilal\n",
      "please enter a name of guests if no any guest left then enter DONE:usman\n",
      "please enter a name of guests if no any guest left then enter DONE:haris\n",
      "please enter a name of guests if no any guest left then enter DONE:zeeshan\n",
      "please enter a name of guests if no any guest left then enter DONE:arslan\n",
      "please enter a name of guests if no any guest left then enter DONE:done\n",
      "please enter a name of guests if no any guest left then enter DONE:DONE\n",
      "ahmad\n",
      "ahsan\n",
      "ali\n",
      "arslan\n",
      "bilal\n",
      "haris\n",
      "usman\n",
      "waqas\n",
      "zeeshan\n"
     ]
    }
   ],
   "source": [
    "guests= []\n",
    "name=\"\"\n",
    "\n",
    "while name != \"DONE\":\n",
    "    name=input(\"please enter a name of guests if no any guest left then enter DONE:\")\n",
    "    if(name.upper( )!= \"DONE\" or name.lower() != \"done\"):\n",
    "        guests.append(name)\n",
    "        \n",
    "guests.sort()\n",
    "for n in guests:\n",
    "    print(n)"
   ]
  },
  {
   "cell_type": "code",
   "execution_count": null,
   "id": "4e5f5d26",
   "metadata": {},
   "outputs": [],
   "source": []
  }
 ],
 "metadata": {
  "kernelspec": {
   "display_name": "Python 3 (ipykernel)",
   "language": "python",
   "name": "python3"
  },
  "language_info": {
   "codemirror_mode": {
    "name": "ipython",
    "version": 3
   },
   "file_extension": ".py",
   "mimetype": "text/x-python",
   "name": "python",
   "nbconvert_exporter": "python",
   "pygments_lexer": "ipython3",
   "version": "3.11.3"
  }
 },
 "nbformat": 4,
 "nbformat_minor": 5
}

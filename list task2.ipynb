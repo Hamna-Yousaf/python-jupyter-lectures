{
 "cells": [
  {
   "cell_type": "markdown",
   "id": "4a6d75e2",
   "metadata": {},
   "source": [
    "# task2\n"
   ]
  },
  {
   "cell_type": "code",
   "execution_count": 12,
   "id": "027a6921",
   "metadata": {},
   "outputs": [
    {
     "name": "stdout",
     "output_type": "stream",
     "text": [
      "sum of the number is: 1\n",
      "sum of the number is: 3\n",
      "sum of the number is: 6\n",
      "sum of the number is: 10\n",
      "sum of the number is: 15\n"
     ]
    }
   ],
   "source": [
    "number_list = [1,2,3,4,5]\n",
    "\n",
    "sum=0\n",
    "for n in number_list:\n",
    "    sum=n+sum\n",
    "    print(\"sum of the number is:\",sum)\n"
   ]
  },
  {
   "cell_type": "markdown",
   "id": "189a7191",
   "metadata": {},
   "source": [
    "# Task 1:Basics"
   ]
  },
  {
   "cell_type": "code",
   "execution_count": 13,
   "id": "dd2e6eef",
   "metadata": {},
   "outputs": [
    {
     "name": "stdout",
     "output_type": "stream",
     "text": [
      "first element: mango\n",
      "last element: grapes\n"
     ]
    }
   ],
   "source": [
    "Fruits = [ \"mango\",\"apple\",\"banana\",\"grapes\"]\n",
    "print(\"first element:\",Fruits[0])\n",
    "print(\"last element:\",Fruits[-1])"
   ]
  },
  {
   "cell_type": "markdown",
   "id": "4a8dfcbd",
   "metadata": {},
   "source": [
    "# task4"
   ]
  },
  {
   "cell_type": "code",
   "execution_count": null,
   "id": "e61eb79d",
   "metadata": {},
   "outputs": [],
   "source": [
    "\n",
    "for i in range(10):\n",
    "    num=int(input(\"please enter a number for adding in list:\"))\n",
    "    num_list.append(num)\n",
    "    \n",
    "for n in num_list:\n",
    "    if(n%2 == 0):\n",
    "        print(\"this element is even\",n)\n",
    "    else:\n",
    "        print(\"this element is odd\",n)\n",
    "    \n"
   ]
  },
  {
   "cell_type": "code",
   "execution_count": null,
   "id": "90789d4a",
   "metadata": {},
   "outputs": [],
   "source": [
    "# task5:\n",
    "\n"
   ]
  },
  {
   "cell_type": "code",
   "execution_count": null,
   "id": "9c788b7b",
   "metadata": {},
   "outputs": [],
   "source": [
    "]\n"
   ]
  },
  {
   "cell_type": "code",
   "execution_count": 27,
   "id": "64306538",
   "metadata": {},
   "outputs": [
    {
     "name": "stdout",
     "output_type": "stream",
     "text": [
      "the name start with vowels: usman\n",
      "the name start with vowels: arsalan\n"
     ]
    }
   ],
   "source": [
    "a=['zeeshan','haris','usman','bilal','waqas','arsalan']\n",
    "for name in a:\n",
    "    if(name[0] == 'a' or name[0] == 'e' or name[0] == 'i' or name[0] == 'o' or name[0] == 'u'):\n",
    "        print(\"the name start with vowels:\",name)"
   ]
  },
  {
   "cell_type": "code",
   "execution_count": null,
   "id": "a445ea6f",
   "metadata": {},
   "outputs": [],
   "source": []
  },
  {
   "cell_type": "code",
   "execution_count": null,
   "id": "0d44fff9",
   "metadata": {},
   "outputs": [],
   "source": []
  }
 ],
 "metadata": {
  "kernelspec": {
   "display_name": "Python 3 (ipykernel)",
   "language": "python",
   "name": "python3"
  },
  "language_info": {
   "codemirror_mode": {
    "name": "ipython",
    "version": 3
   },
   "file_extension": ".py",
   "mimetype": "text/x-python",
   "name": "python",
   "nbconvert_exporter": "python",
   "pygments_lexer": "ipython3",
   "version": "3.11.3"
  }
 },
 "nbformat": 4,
 "nbformat_minor": 5
}

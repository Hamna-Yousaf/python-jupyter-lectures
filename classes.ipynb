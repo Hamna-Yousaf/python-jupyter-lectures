{
 "cells": [
  {
   "cell_type": "code",
   "execution_count": 1,
   "id": "cf05de20",
   "metadata": {},
   "outputs": [],
   "source": [
    "# classes"
   ]
  },
  {
   "cell_type": "code",
   "execution_count": 4,
   "id": "543104ae",
   "metadata": {},
   "outputs": [],
   "source": [
    "class car:\n",
    "    def __init__(self,m,c):\n",
    "        self.modle = m\n",
    "        self.colour = c\n",
    "        pass\n",
    "    def check_values(self):\n",
    "        if(colour == \"red\"):\n",
    "            print(\"stop\")\n",
    "        elif(colour == \"black\"):\n",
    "            print(\"driffting\")\n",
    "        elif(colour == \"white\"):\n",
    "            print(\"running\")\n",
    "        else:\n",
    "            print(\"something went wrong\")\n",
    "            "
   ]
  },
  {
   "cell_type": "code",
   "execution_count": 5,
   "id": "90259854",
   "metadata": {},
   "outputs": [],
   "source": [
    "colour = car(\"gande\",\"red\")"
   ]
  }
 ],
 "metadata": {
  "kernelspec": {
   "display_name": "Python 3 (ipykernel)",
   "language": "python",
   "name": "python3"
  },
  "language_info": {
   "codemirror_mode": {
    "name": "ipython",
    "version": 3
   },
   "file_extension": ".py",
   "mimetype": "text/x-python",
   "name": "python",
   "nbconvert_exporter": "python",
   "pygments_lexer": "ipython3",
   "version": "3.11.3"
  }
 },
 "nbformat": 4,
 "nbformat_minor": 5
}

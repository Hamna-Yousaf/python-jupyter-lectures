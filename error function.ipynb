{
 "cells": [
  {
   "cell_type": "code",
   "execution_count": 4,
   "id": "fadaf6ef",
   "metadata": {},
   "outputs": [
    {
     "ename": "SyntaxError",
     "evalue": "invalid syntax (1972029715.py, line 15)",
     "output_type": "error",
     "traceback": [
      "\u001b[1;36m  Cell \u001b[1;32mIn[4], line 15\u001b[1;36m\u001b[0m\n\u001b[1;33m    error=sys exe_info()[0]\u001b[0m\n\u001b[1;37m              ^\u001b[0m\n\u001b[1;31mSyntaxError\u001b[0m\u001b[1;31m:\u001b[0m invalid syntax\n"
     ]
    }
   ],
   "source": [
    "import sys\n",
    "try:\n",
    "    perc=input(\"please enter a percentage:\")\n",
    "    \n",
    "    if(perc > 80):\n",
    "        print(\"grade is A\")\n",
    "    elif(\"perc > 70\"):\n",
    "        print(\"grade is B\")\n",
    "    elif(perc > 60):\n",
    "        print(\"grade is C\")\n",
    "    else:\n",
    "        print(\"invalid grade\")\n",
    "    \n",
    "except:\n",
    "    error=sys exc_info()[0]\n",
    "    print(error)\n",
    "    print(\"error aya h\")"
   ]
  },
  {
   "cell_type": "code",
   "execution_count": null,
   "id": "022a5e41",
   "metadata": {},
   "outputs": [],
   "source": [
    "\n",
    "\n",
    "\n",
    "\n",
    "\n",
    "\n",
    "\n",
    "\n",
    "\n"
   ]
  },
  {
   "cell_type": "code",
   "execution_count": null,
   "id": "a7fc9fe8",
   "metadata": {},
   "outputs": [],
   "source": []
  }
 ],
 "metadata": {
  "kernelspec": {
   "display_name": "Python 3 (ipykernel)",
   "language": "python",
   "name": "python3"
  },
  "language_info": {
   "codemirror_mode": {
    "name": "ipython",
    "version": 3
   },
   "file_extension": ".py",
   "mimetype": "text/x-python",
   "name": "python",
   "nbconvert_exporter": "python",
   "pygments_lexer": "ipython3",
   "version": "3.11.3"
  }
 },
 "nbformat": 4,
 "nbformat_minor": 5
}

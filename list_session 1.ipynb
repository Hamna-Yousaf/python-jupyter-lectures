{
 "cells": [
  {
   "cell_type": "code",
   "execution_count": 30,
   "id": "8df856d9",
   "metadata": {},
   "outputs": [],
   "source": [
    "guest = ['ali','haris','ahmad','hassan'] #create list\n"
   ]
  },
  {
   "cell_type": "code",
   "execution_count": 31,
   "id": "5eb618ed",
   "metadata": {},
   "outputs": [
    {
     "data": {
      "text/plain": [
       "'ali'"
      ]
     },
     "execution_count": 31,
     "metadata": {},
     "output_type": "execute_result"
    }
   ],
   "source": [
    "guest[0]"
   ]
  },
  {
   "cell_type": "code",
   "execution_count": 32,
   "id": "7958a91e",
   "metadata": {},
   "outputs": [
    {
     "data": {
      "text/plain": [
       "'haris'"
      ]
     },
     "execution_count": 32,
     "metadata": {},
     "output_type": "execute_result"
    }
   ],
   "source": [
    "guest[1]"
   ]
  },
  {
   "cell_type": "code",
   "execution_count": 33,
   "id": "e2d0e8ee",
   "metadata": {},
   "outputs": [
    {
     "data": {
      "text/plain": [
       "'hassan'"
      ]
     },
     "execution_count": 33,
     "metadata": {},
     "output_type": "execute_result"
    }
   ],
   "source": [
    "guest[-1] #negative index"
   ]
  },
  {
   "cell_type": "code",
   "execution_count": 34,
   "id": "76ab9443",
   "metadata": {},
   "outputs": [
    {
     "data": {
      "text/plain": [
       "'ahmad'"
      ]
     },
     "execution_count": 34,
     "metadata": {},
     "output_type": "execute_result"
    }
   ],
   "source": [
    "guest[2] #positive index"
   ]
  },
  {
   "cell_type": "code",
   "execution_count": 35,
   "id": "15318f15",
   "metadata": {},
   "outputs": [
    {
     "name": "stdout",
     "output_type": "stream",
     "text": [
      "haris\n"
     ]
    }
   ],
   "source": [
    "print(guest[1])"
   ]
  },
  {
   "cell_type": "code",
   "execution_count": 36,
   "id": "2b6004eb",
   "metadata": {},
   "outputs": [
    {
     "name": "stdout",
     "output_type": "stream",
     "text": [
      "hassan\n"
     ]
    }
   ],
   "source": [
    "print(guest[3])"
   ]
  },
  {
   "cell_type": "code",
   "execution_count": 37,
   "id": "5c13b54c",
   "metadata": {},
   "outputs": [
    {
     "data": {
      "text/plain": [
       "['haider', 'haris', 'ahmad', 'hassan']"
      ]
     },
     "execution_count": 37,
     "metadata": {},
     "output_type": "execute_result"
    }
   ],
   "source": [
    "guest[0]= 'haider' # replace ali\n",
    "guest"
   ]
  },
  {
   "cell_type": "code",
   "execution_count": 38,
   "id": "19e76cc6",
   "metadata": {},
   "outputs": [
    {
     "data": {
      "text/plain": [
       "['haider', 'haris', 'ahmad', 'hassan', 'waqas']"
      ]
     },
     "execution_count": 38,
     "metadata": {},
     "output_type": "execute_result"
    }
   ],
   "source": [
    "guest.append('waqas') #adding element in index\n",
    "guest"
   ]
  },
  {
   "cell_type": "code",
   "execution_count": 39,
   "id": "b363b3ae",
   "metadata": {},
   "outputs": [
    {
     "data": {
      "text/plain": [
       "['haider', 'haris', 'ahmad', 'waqas']"
      ]
     },
     "execution_count": 39,
     "metadata": {},
     "output_type": "execute_result"
    }
   ],
   "source": [
    "guest.remove('hassan')\n",
    "guest"
   ]
  },
  {
   "cell_type": "code",
   "execution_count": 40,
   "id": "50163afc",
   "metadata": {},
   "outputs": [
    {
     "data": {
      "text/plain": [
       "['haider', 'haris', 'waqas']"
      ]
     },
     "execution_count": 40,
     "metadata": {},
     "output_type": "execute_result"
    }
   ],
   "source": [
    "del guest[2] # remove element in index\n",
    "guest"
   ]
  },
  {
   "cell_type": "code",
   "execution_count": 41,
   "id": "d2264885",
   "metadata": {},
   "outputs": [
    {
     "data": {
      "text/plain": [
       "1"
      ]
     },
     "execution_count": 41,
     "metadata": {},
     "output_type": "execute_result"
    }
   ],
   "source": [
    "guest.index('haris') #To find item in list\n"
   ]
  },
  {
   "cell_type": "code",
   "execution_count": 49,
   "id": "ffffd946",
   "metadata": {},
   "outputs": [
    {
     "data": {
      "text/plain": [
       "['haider', 'haris', 'waqas']"
      ]
     },
     "execution_count": 49,
     "metadata": {},
     "output_type": "execute_result"
    }
   ],
   "source": [
    "guest"
   ]
  },
  {
   "cell_type": "code",
   "execution_count": 51,
   "id": "055852e2",
   "metadata": {},
   "outputs": [
    {
     "data": {
      "text/plain": [
       "3"
      ]
     },
     "execution_count": 51,
     "metadata": {},
     "output_type": "execute_result"
    }
   ],
   "source": [
    "entries=len(guest)\n",
    "entries"
   ]
  },
  {
   "cell_type": "code",
   "execution_count": null,
   "id": "e9926f16",
   "metadata": {},
   "outputs": [],
   "source": []
  }
 ],
 "metadata": {
  "kernelspec": {
   "display_name": "Python 3 (ipykernel)",
   "language": "python",
   "name": "python3"
  },
  "language_info": {
   "codemirror_mode": {
    "name": "ipython",
    "version": 3
   },
   "file_extension": ".py",
   "mimetype": "text/x-python",
   "name": "python",
   "nbconvert_exporter": "python",
   "pygments_lexer": "ipython3",
   "version": "3.11.3"
  }
 },
 "nbformat": 4,
 "nbformat_minor": 5
}

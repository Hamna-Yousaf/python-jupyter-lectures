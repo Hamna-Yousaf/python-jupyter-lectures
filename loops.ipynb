{
 "cells": [
  {
   "cell_type": "code",
   "execution_count": 1,
   "id": "a7f79fdb",
   "metadata": {},
   "outputs": [
    {
     "name": "stdout",
     "output_type": "stream",
     "text": [
      "please enter your age:12\n",
      "please enter your age:19\n",
      "please enter your age:18\n",
      "please enter your age:-12\n",
      "you are eligible \n"
     ]
    }
   ],
   "source": [
    "flag=True\n",
    "\n",
    "while(flag == True):\n",
    "    age=int(input(\"please enter your age:\"))\n",
    "    if(age<0)and(age<=18):\n",
    "        flag=False\n",
    "else:\n",
    "    print(\"you are eligible \")\n",
    "    \n",
    "    \n"
   ]
  },
  {
   "cell_type": "code",
   "execution_count": 3,
   "id": "0ac6fee3",
   "metadata": {},
   "outputs": [
    {
     "name": "stdout",
     "output_type": "stream",
     "text": [
      "the oi is: 1\n",
      "the ii is: 1\n",
      "the oi is: 2\n",
      "the ii is: 1\n",
      "the oi is: 2\n",
      "the ii is: 2\n",
      "the oi is: 3\n",
      "the ii is: 1\n",
      "the oi is: 3\n",
      "the ii is: 2\n",
      "the oi is: 3\n",
      "the ii is: 3\n",
      "the oi is: 4\n",
      "the ii is: 1\n",
      "the oi is: 4\n",
      "the ii is: 2\n",
      "the oi is: 4\n",
      "the ii is: 3\n",
      "the oi is: 4\n",
      "the ii is: 4\n",
      "the oi is: 5\n",
      "the ii is: 1\n",
      "the oi is: 5\n",
      "the ii is: 2\n",
      "the oi is: 5\n",
      "the ii is: 3\n",
      "the oi is: 5\n",
      "the ii is: 4\n",
      "the oi is: 5\n",
      "the ii is: 5\n"
     ]
    }
   ],
   "source": [
    "oi=1\n",
    "while(oi<=5):\n",
    "    ii=1\n",
    "    while(ii<=oi):\n",
    "        print(\"the oi is:\",oi)\n",
    "        print(\"the ii is:\",ii)\n",
    "        ii=ii+1\n",
    "    oi=oi+1\n",
    "    "
   ]
  },
  {
   "cell_type": "code",
   "execution_count": 12,
   "id": "496a770a",
   "metadata": {},
   "outputs": [
    {
     "data": {
      "text/plain": [
       "list"
      ]
     },
     "execution_count": 12,
     "metadata": {},
     "output_type": "execute_result"
    }
   ],
   "source": [
    "veg=[\"gobhi\",\"matar\",\"alu\",\"shimla mirch\"]\n",
    "type(veg)"
   ]
  },
  {
   "cell_type": "code",
   "execution_count": 13,
   "id": "7ca009d9",
   "metadata": {},
   "outputs": [
    {
     "name": "stdout",
     "output_type": "stream",
     "text": [
      "the vegetable list is: ['gobhi', 'matar', 'alu', 'shimla mirch']\n"
     ]
    }
   ],
   "source": [
    "print(\"the vegetable list is:\",veg)\n"
   ]
  },
  {
   "cell_type": "code",
   "execution_count": 14,
   "id": "fdd98234",
   "metadata": {},
   "outputs": [
    {
     "data": {
      "text/plain": [
       "'gobhi'"
      ]
     },
     "execution_count": 14,
     "metadata": {},
     "output_type": "execute_result"
    }
   ],
   "source": [
    "veg[0] #index"
   ]
  },
  {
   "cell_type": "code",
   "execution_count": 15,
   "id": "3f2b12f0",
   "metadata": {},
   "outputs": [
    {
     "data": {
      "text/plain": [
       "'matar'"
      ]
     },
     "execution_count": 15,
     "metadata": {},
     "output_type": "execute_result"
    }
   ],
   "source": [
    "veg[1]"
   ]
  },
  {
   "cell_type": "code",
   "execution_count": 16,
   "id": "fc4edca9",
   "metadata": {},
   "outputs": [
    {
     "data": {
      "text/plain": [
       "'alu'"
      ]
     },
     "execution_count": 16,
     "metadata": {},
     "output_type": "execute_result"
    }
   ],
   "source": [
    "veg[2]"
   ]
  },
  {
   "cell_type": "code",
   "execution_count": 17,
   "id": "49f1424a",
   "metadata": {},
   "outputs": [
    {
     "data": {
      "text/plain": [
       "'shimla mirch'"
      ]
     },
     "execution_count": 17,
     "metadata": {},
     "output_type": "execute_result"
    }
   ],
   "source": [
    "veg[3]\n"
   ]
  },
  {
   "cell_type": "code",
   "execution_count": 20,
   "id": "847ecbd6",
   "metadata": {},
   "outputs": [],
   "source": [
    "veg.append(\"payaz\")"
   ]
  },
  {
   "cell_type": "code",
   "execution_count": 21,
   "id": "5e3959a3",
   "metadata": {},
   "outputs": [
    {
     "data": {
      "text/plain": [
       "['gobhi', 'matar', 'alu', 'shimla mirch', 'payaz']"
      ]
     },
     "execution_count": 21,
     "metadata": {},
     "output_type": "execute_result"
    }
   ],
   "source": [
    "veg"
   ]
  },
  {
   "cell_type": "code",
   "execution_count": 22,
   "id": "fe36f00a",
   "metadata": {},
   "outputs": [],
   "source": [
    "veg.insert(4,\"tamatar\")"
   ]
  },
  {
   "cell_type": "code",
   "execution_count": 23,
   "id": "d7867159",
   "metadata": {},
   "outputs": [
    {
     "data": {
      "text/plain": [
       "['gobhi', 'matar', 'alu', 'shimla mirch', 'tamatar', 'payaz']"
      ]
     },
     "execution_count": 23,
     "metadata": {},
     "output_type": "execute_result"
    }
   ],
   "source": [
    "veg"
   ]
  },
  {
   "cell_type": "code",
   "execution_count": 24,
   "id": "66d8ee6a",
   "metadata": {},
   "outputs": [
    {
     "name": "stdout",
     "output_type": "stream",
     "text": [
      "the vegetable is gobhi\n",
      "the vegetable is matar\n",
      "the vegetable is alu\n",
      "the vegetable is shimla mirch\n",
      "the vegetable is tamatar\n",
      "the vegetable is payaz\n"
     ]
    }
   ],
   "source": [
    "for v in veg:\n",
    "    print(\"the vegetable is\",v)"
   ]
  },
  {
   "cell_type": "code",
   "execution_count": 30,
   "id": "50a38e81",
   "metadata": {},
   "outputs": [
    {
     "name": "stdout",
     "output_type": "stream",
     "text": [
      "the vegetable is 0\n",
      "the vegetable is 1\n",
      "the vegetable is 2\n",
      "the vegetable is 3\n",
      "the vegetable is 4\n",
      "the vegetable is 5\n"
     ]
    }
   ],
   "source": [
    "for v in range(len(veg)):\n",
    "    print(\"the vegetable is\",v)"
   ]
  },
  {
   "cell_type": "code",
   "execution_count": 25,
   "id": "83840a04",
   "metadata": {},
   "outputs": [
    {
     "data": {
      "text/plain": [
       "6"
      ]
     },
     "execution_count": 25,
     "metadata": {},
     "output_type": "execute_result"
    }
   ],
   "source": [
    "len(veg)"
   ]
  },
  {
   "cell_type": "code",
   "execution_count": null,
   "id": "91a09af1",
   "metadata": {},
   "outputs": [],
   "source": [
    "makeup_kit = []\n",
    "make_up=input\n",
    "\n"
   ]
  }
 ],
 "metadata": {
  "kernelspec": {
   "display_name": "Python 3 (ipykernel)",
   "language": "python",
   "name": "python3"
  },
  "language_info": {
   "codemirror_mode": {
    "name": "ipython",
    "version": 3
   },
   "file_extension": ".py",
   "mimetype": "text/x-python",
   "name": "python",
   "nbconvert_exporter": "python",
   "pygments_lexer": "ipython3",
   "version": "3.11.3"
  }
 },
 "nbformat": 4,
 "nbformat_minor": 5
}

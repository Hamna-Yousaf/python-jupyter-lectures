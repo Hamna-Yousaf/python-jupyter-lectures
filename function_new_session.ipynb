{
 "cells": [
  {
   "cell_type": "code",
   "execution_count": 1,
   "id": "4d3cf728",
   "metadata": {},
   "outputs": [],
   "source": [
    "# welcome to function session"
   ]
  },
  {
   "cell_type": "code",
   "execution_count": 2,
   "id": "d816db83",
   "metadata": {},
   "outputs": [],
   "source": [
    "def dex_func():  # declaration of function\n",
    "    print(\"welcome to DexploreX\")"
   ]
  },
  {
   "cell_type": "code",
   "execution_count": 4,
   "id": "d81ea2ca",
   "metadata": {},
   "outputs": [
    {
     "name": "stdout",
     "output_type": "stream",
     "text": [
      "welcome to DexploreX\n"
     ]
    }
   ],
   "source": [
    "dex_func()#calling\n",
    "\n"
   ]
  },
  {
   "cell_type": "code",
   "execution_count": 5,
   "id": "f6947762",
   "metadata": {},
   "outputs": [
    {
     "name": "stdout",
     "output_type": "stream",
     "text": [
      "welcome to DexploreX\n",
      "welcome to DexploreX\n",
      "welcome to DexploreX\n",
      "welcome to DexploreX\n",
      "welcome to DexploreX\n",
      "welcome to DexploreX\n",
      "welcome to DexploreX\n",
      "welcome to DexploreX\n",
      "welcome to DexploreX\n",
      "welcome to DexploreX\n"
     ]
    }
   ],
   "source": [
    "for i in range(10):\n",
    "    dex_func()"
   ]
  },
  {
   "cell_type": "code",
   "execution_count": 6,
   "id": "6a669cc7",
   "metadata": {},
   "outputs": [],
   "source": [
    "# parameter\n",
    "\n",
    "def multiply(n1,n2):\n",
    "    result= n1*n2\n",
    "    print(\"the multiply of number is\",result)\n",
    "    "
   ]
  },
  {
   "cell_type": "code",
   "execution_count": 7,
   "id": "f3719cb3",
   "metadata": {},
   "outputs": [
    {
     "name": "stdout",
     "output_type": "stream",
     "text": [
      "the multiply of number is 6\n"
     ]
    }
   ],
   "source": [
    "multiply(2,3)\n"
   ]
  },
  {
   "cell_type": "code",
   "execution_count": 8,
   "id": "677dc143",
   "metadata": {},
   "outputs": [
    {
     "name": "stdout",
     "output_type": "stream",
     "text": [
      "the multiply of number is 1541\n"
     ]
    }
   ],
   "source": [
    "multiply(67,23)"
   ]
  },
  {
   "cell_type": "code",
   "execution_count": 9,
   "id": "1af58129",
   "metadata": {},
   "outputs": [
    {
     "name": "stdout",
     "output_type": "stream",
     "text": [
      "the multiply of number is 28\n"
     ]
    }
   ],
   "source": [
    "multiply(7,4)"
   ]
  },
  {
   "cell_type": "code",
   "execution_count": 16,
   "id": "94c2ac99",
   "metadata": {},
   "outputs": [],
   "source": [
    "def threat(msg):\n",
    "    print(\"oye baz a jao\" + msg)\n",
    "    "
   ]
  },
  {
   "cell_type": "code",
   "execution_count": 17,
   "id": "53c31ab4",
   "metadata": {},
   "outputs": [
    {
     "name": "stdout",
     "output_type": "stream",
     "text": [
      "oye baz a jaowarna mar khao ga\n"
     ]
    }
   ],
   "source": [
    "threat(\"warna mar khao ga\")"
   ]
  },
  {
   "cell_type": "code",
   "execution_count": 12,
   "id": "3093bc80",
   "metadata": {},
   "outputs": [],
   "source": [
    "def sum(a,b):\n",
    "    c=a+b\n",
    "    return c\n"
   ]
  },
  {
   "cell_type": "code",
   "execution_count": 15,
   "id": "0cc89cc4",
   "metadata": {},
   "outputs": [
    {
     "name": "stdout",
     "output_type": "stream",
     "text": [
      "7\n"
     ]
    }
   ],
   "source": [
    "res_sum=sum(3,4)\n",
    "print(res_sum)"
   ]
  },
  {
   "cell_type": "code",
   "execution_count": null,
   "id": "6f012c95",
   "metadata": {},
   "outputs": [],
   "source": []
  }
 ],
 "metadata": {
  "kernelspec": {
   "display_name": "Python 3 (ipykernel)",
   "language": "python",
   "name": "python3"
  },
  "language_info": {
   "codemirror_mode": {
    "name": "ipython",
    "version": 3
   },
   "file_extension": ".py",
   "mimetype": "text/x-python",
   "name": "python",
   "nbconvert_exporter": "python",
   "pygments_lexer": "ipython3",
   "version": "3.11.3"
  }
 },
 "nbformat": 4,
 "nbformat_minor": 5
}

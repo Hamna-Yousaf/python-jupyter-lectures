{
 "cells": [
  {
   "cell_type": "markdown",
   "id": "4cd6aa64",
   "metadata": {},
   "source": [
    "# Grade task"
   ]
  },
  {
   "cell_type": "code",
   "execution_count": 11,
   "id": "e7c40d50",
   "metadata": {},
   "outputs": [
    {
     "name": "stdout",
     "output_type": "stream",
     "text": [
      "please enter a percentage:89\n",
      "grade B\n"
     ]
    }
   ],
   "source": [
    "perc = float(input(\"please enter a percentage:\"))\n",
    " \n",
    "if(perc >=90  and perc <= 100):\n",
    "    print(\"grade A\")\n",
    "elif(perc >= 80 and perc <= 89):\n",
    "    print(\"grade B\")\n",
    "elif(perc >= 70 and perc <= 79):\n",
    "    print(\"grade C\")\n",
    "elif(perc >= 60 and perc <= 69):\n",
    "    print(\"grade D\")\n",
    "elif(perc >= 0 and perc <= 59):\n",
    "    print(\"grade F\")\n",
    "else:\n",
    "    (\"Please write correct information\")\n",
    "    \n",
    "          "
   ]
  },
  {
   "cell_type": "markdown",
   "id": "cce476f3",
   "metadata": {},
   "source": [
    "# leap year"
   ]
  },
  {
   "cell_type": "code",
   "execution_count": 13,
   "id": "a75fe6e1",
   "metadata": {},
   "outputs": [
    {
     "name": "stdout",
     "output_type": "stream",
     "text": [
      "please enter a  years:2004\n",
      "the leap year is: 2004\n"
     ]
    }
   ],
   "source": [
    "leap_year = int(input(\"please enter a  years:\"))\n",
    "if(leap_year % 4 == 0):\n",
    "    print(\"the leap year is:\",leap_year)\n",
    "else:\n",
    "    print(\"invalid year\")\n",
    " "
   ]
  },
  {
   "cell_type": "markdown",
   "id": "f3482a01",
   "metadata": {},
   "source": [
    "# salary task"
   ]
  },
  {
   "cell_type": "code",
   "execution_count": 8,
   "id": "9ea64bda",
   "metadata": {},
   "outputs": [
    {
     "name": "stdout",
     "output_type": "stream",
     "text": [
      "Please enter your total salary:10000\n"
     ]
    },
    {
     "ename": "NameError",
     "evalue": "name 'Sal' is not defined",
     "output_type": "error",
     "traceback": [
      "\u001b[1;31m---------------------------------------------------------------------------\u001b[0m",
      "\u001b[1;31mNameError\u001b[0m                                 Traceback (most recent call last)",
      "Cell \u001b[1;32mIn[8], line 3\u001b[0m\n\u001b[0;32m      1\u001b[0m Total_Sal \u001b[38;5;241m=\u001b[39m \u001b[38;5;28mint\u001b[39m(\u001b[38;5;28minput\u001b[39m(\u001b[38;5;124m\"\u001b[39m\u001b[38;5;124mPlease enter your total salary:\u001b[39m\u001b[38;5;124m\"\u001b[39m))\n\u001b[1;32m----> 3\u001b[0m \u001b[38;5;28;01mif\u001b[39;00m(Sal \u001b[38;5;241m>\u001b[39m\u001b[38;5;241m=\u001b[39m \u001b[38;5;241m50000\u001b[39m):\n\u001b[0;32m      4\u001b[0m     tax \u001b[38;5;241m=\u001b[39m (Sal\u001b[38;5;241m/\u001b[39m\u001b[38;5;241m100\u001b[39m)\u001b[38;5;241m*\u001b[39m\u001b[38;5;241m7\u001b[39m\n\u001b[0;32m      5\u001b[0m     net_sal \u001b[38;5;241m=\u001b[39m Sal\u001b[38;5;241m-\u001b[39mtax\n",
      "\u001b[1;31mNameError\u001b[0m: name 'Sal' is not defined"
     ]
    }
   ],
   "source": [
    "Total_Sal = int(input(\"Please enter your total salary:\"))\n",
    "\n",
    "if(Total_Sal >= 50000):\n",
    "    tax = (Total_Sal/100)*7\n",
    "    net_sal = Total_Sal-tax\n",
    "    gross_pay = Total_Sal\n",
    "    \n",
    "elif(Total_Sal >= 50000 and Sal <= 100000):\n",
    "    tax = (Total_Sal/100)*14\n",
    "    net_sal =Total_Sal-tax\n",
    "    gross_pay = Total_Sal\n",
    "\n",
    "elif(Total_Sal >= 100001 and Sal <= 150000):\n",
    "    tax = (Total_Sal/100)*21\n",
    "    net_sal = Total_Sal-tax\n",
    "    gross_pay = Total_Sal\n",
    "\n",
    "elif(total_Sal >= 150000):\n",
    "    tax = (Total_Sal/100)*35\n",
    "    net_sal = Total_Sal-tax\n",
    "    gross_pay = Total_Sal\n",
    "\n",
    "else:\n",
    "    print(\"invalid salary\")\n",
    "    \n",
    "print(\"your total salary is\",Total_Sal)\n",
    "print(\"your net salary is\",net_sal)\n",
    "print(\"your gross pay is\",gross_pay)"
   ]
  },
  {
   "cell_type": "markdown",
   "id": "00f1bfd0",
   "metadata": {},
   "source": [
    "# Three Numbers task"
   ]
  },
  {
   "cell_type": "code",
   "execution_count": 3,
   "id": "4ad42144",
   "metadata": {},
   "outputs": [
    {
     "name": "stdout",
     "output_type": "stream",
     "text": [
      "please enter first number:78\n",
      "please enter second number:90\n",
      "please enter third number:67\n",
      "the largest number is 90\n"
     ]
    }
   ],
   "source": [
    "n1 = int(input(\"please enter first number:\"))\n",
    "n2 = int(input(\"please enter second number:\"))\n",
    "n3 = int(input(\"please enter third number:\"))\n",
    " \n",
    "if(n1 >= n2 and n1 >= n3):\n",
    "    largest = n1\n",
    "elif(n2 >= n1 and n2 >= n3):\n",
    "    largest = n2\n",
    "else:\n",
    "    largest = n3\n",
    "print(\"the largest number is\",largest)\n",
    "    \n",
    " "
   ]
  },
  {
   "cell_type": "code",
   "execution_count": null,
   "id": "591e8d70",
   "metadata": {},
   "outputs": [],
   "source": []
  }
 ],
 "metadata": {
  "kernelspec": {
   "display_name": "Python 3 (ipykernel)",
   "language": "python",
   "name": "python3"
  },
  "language_info": {
   "codemirror_mode": {
    "name": "ipython",
    "version": 3
   },
   "file_extension": ".py",
   "mimetype": "text/x-python",
   "name": "python",
   "nbconvert_exporter": "python",
   "pygments_lexer": "ipython3",
   "version": "3.11.3"
  }
 },
 "nbformat": 4,
 "nbformat_minor": 5
}

{
 "cells": [
  {
   "cell_type": "code",
   "execution_count": 11,
   "id": "e7c40d50",
   "metadata": {},
   "outputs": [
    {
     "name": "stdout",
     "output_type": "stream",
     "text": [
      "please enter a percentage:89\n",
      "grade B\n"
     ]
    }
   ],
   "source": [
    "perc = float(input(\"please enter a percentage:\"))\n",
    " \n",
    "if(perc >=90  and perc <= 100):\n",
    "    print(\"grade A\")\n",
    "elif(perc >= 80 and perc <= 89):\n",
    "    print(\"grade B\")\n",
    "elif(perc >= 70 and perc <= 79):\n",
    "    print(\"grade C\")\n",
    "elif(perc >= 60 and perc <= 69):\n",
    "    print(\"grade D\")\n",
    "elif(perc >= 0 and perc <= 59):\n",
    "    print(\"grade F\")\n",
    "else:\n",
    "    (\"Please write correct information\")\n",
    "    \n",
    "          "
   ]
  },
  {
   "cell_type": "markdown",
   "id": "dd4b0bf9",
   "metadata": {},
   "source": [
    "# leap year"
   ]
  },
  {
   "cell_type": "code",
   "execution_count": 18,
   "id": "a75fe6e1",
   "metadata": {},
   "outputs": [
    {
     "name": "stdout",
     "output_type": "stream",
     "text": [
      "please enter a  years:2003\n",
      "invalid year\n"
     ]
    }
   ],
   "source": [
    "leap_year = int(input(\"please enter a  years:\"))\n",
    "if(leap_year % 4 == 0):\n",
    "    print(\"the leap year is:\",leap_year)\n",
    "else:\n",
    "    print(\"invalid year\")\n",
    " "
   ]
  },
  {
   "cell_type": "markdown",
   "id": "f3482a01",
   "metadata": {},
   "source": [
    "# salary task"
   ]
  },
  {
   "cell_type": "code",
   "execution_count": 11,
   "id": "9ea64bda",
   "metadata": {},
   "outputs": [
    {
     "name": "stdout",
     "output_type": "stream",
     "text": [
      "Please enter your total salary:50000\n"
     ]
    }
   ],
   "source": [
    "Sal = input(\"Please enter your total salary:\")\n",
    "if(Sal == 50000):\n",
    "    tax =(Sal/100)*7\n",
    "    net_sal = Sal-tax\n",
    "    print(\"Your total salary is:\",Sal)\n",
    "    print(\"Your net salary is:\",net_sal)"
   ]
  },
  {
   "cell_type": "code",
   "execution_count": null,
   "id": "c99d6b9a",
   "metadata": {},
   "outputs": [],
   "source": []
  }
 ],
 "metadata": {
  "kernelspec": {
   "display_name": "Python 3 (ipykernel)",
   "language": "python",
   "name": "python3"
  },
  "language_info": {
   "codemirror_mode": {
    "name": "ipython",
    "version": 3
   },
   "file_extension": ".py",
   "mimetype": "text/x-python",
   "name": "python",
   "nbconvert_exporter": "python",
   "pygments_lexer": "ipython3",
   "version": "3.11.3"
  }
 },
 "nbformat": 4,
 "nbformat_minor": 5
}

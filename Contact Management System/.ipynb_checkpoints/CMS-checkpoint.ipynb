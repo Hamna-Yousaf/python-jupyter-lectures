{
 "cells": [
  {
   "cell_type": "code",
   "execution_count": 1,
   "id": "a594637f",
   "metadata": {},
   "outputs": [
    {
     "name": "stdout",
     "output_type": "stream",
     "text": [
      "welcome\n"
     ]
    }
   ],
   "source": [
    "print(\"welcome\")"
   ]
  },
  {
   "cell_type": "code",
   "execution_count": 1,
   "id": "a05ee725",
   "metadata": {},
   "outputs": [
    {
     "name": "stdout",
     "output_type": "stream",
     "text": [
      "its new project\n"
     ]
    }
   ],
   "source": [
    "print(\"its new project\")"
   ]
  },
  {
   "cell_type": "markdown",
   "id": "e68f28b4",
   "metadata": {},
   "source": [
    "# project Contact Management System"
   ]
  },
  {
   "cell_type": "code",
   "execution_count": 45,
   "id": "cfdf87ca",
   "metadata": {},
   "outputs": [],
   "source": [
    "contacts = dict()"
   ]
  },
  {
   "cell_type": "code",
   "execution_count": 46,
   "id": "65c796bf",
   "metadata": {},
   "outputs": [],
   "source": [
    "def show_menu():\n",
    "    print(\"Contact Management System\")\n",
    "    print(\"1.Add Contact\")\n",
    "    print(\"2.View Contact\")\n",
    "    print(\"3.Search Contact\")\n",
    "    print(\"4.Edit Contact\")\n",
    "    print(\"5.Delete Contact\")\n",
    "    print(\"6.Exit\")"
   ]
  },
  {
   "cell_type": "code",
   "execution_count": 47,
   "id": "d4761493",
   "metadata": {},
   "outputs": [],
   "source": [
    "def add_contact():\n",
    "    name = input(\"Enter name:\")\n",
    "    Phone = input(\"Enter phone:\")\n",
    "    contacts[name] = Phone\n",
    "    print(\"Contacts added successfully!\")"
   ]
  },
  {
   "cell_type": "code",
   "execution_count": 48,
   "id": "57192044",
   "metadata": {},
   "outputs": [],
   "source": [
    "def view_contact():\n",
    "    if contacts:\n",
    "        print(\"Contacts:\")\n",
    "        for name in contacts.items():\n",
    "            print(f\"Name:{name}\")\n",
    "    else:\n",
    "        print(\"No contacts found\")"
   ]
  },
  {
   "cell_type": "code",
   "execution_count": 49,
   "id": "4bd344ff",
   "metadata": {},
   "outputs": [],
   "source": [
    "def search_contact():\n",
    "    name = input(\"Enter name to search:\")\n",
    "    if name in contacts:\n",
    "        details = contacts[name]\n",
    "        print(f\"Name:{name}\")\n",
    "    else:\n",
    "        print(\"Contact not found\")"
   ]
  },
  {
   "cell_type": "code",
   "execution_count": 50,
   "id": "47529828",
   "metadata": {},
   "outputs": [],
   "source": [
    "def edit_contact():\n",
    "    name = input(\"Enter name to edit:\")\n",
    "    if name in contacts:\n",
    "        print(\"Editing Contact: {name}\")\n",
    "        Phone = input(\"Enter new phone number:\")\n",
    "        contacts[name] = Phone\n",
    "        print(\"Contact updated successfully!\")\n",
    "    else:\n",
    "        print(\"Contact not found\")"
   ]
  },
  {
   "cell_type": "code",
   "execution_count": 51,
   "id": "676b4db3",
   "metadata": {},
   "outputs": [],
   "source": [
    "def delete_contact():\n",
    "    name = input(\"Enter name to delete:\")\n",
    "    if name in contacts:\n",
    "        del contacts[name]\n",
    "        print(\"Contact deleted successfully!\")\n",
    "    else:\n",
    "        print(\"Contact not found\")"
   ]
  },
  {
   "cell_type": "code",
   "execution_count": null,
   "id": "daa8d03f",
   "metadata": {},
   "outputs": [
    {
     "name": "stdout",
     "output_type": "stream",
     "text": [
      "Contact Management System\n",
      "1.Add Contact\n",
      "2.View Contact\n",
      "3.Search Contact\n",
      "4.Edit Contact\n",
      "5.Delete Contact\n",
      "6.Exit\n",
      "Enter your choice:1\n",
      "Enter name:usman\n",
      "Enter phone:03566875645\n",
      "Contacts added successfully!\n",
      "Contact Management System\n",
      "1.Add Contact\n",
      "2.View Contact\n",
      "3.Search Contact\n",
      "4.Edit Contact\n",
      "5.Delete Contact\n",
      "6.Exit\n",
      "Enter your choice:2\n",
      "Contacts:\n",
      "Name:('usman', '03566875645')\n",
      "Contact Management System\n",
      "1.Add Contact\n",
      "2.View Contact\n",
      "3.Search Contact\n",
      "4.Edit Contact\n",
      "5.Delete Contact\n",
      "6.Exit\n",
      "Enter your choice:3\n",
      "Enter name to search:usman\n",
      "Name:usman\n",
      "Contact Management System\n",
      "1.Add Contact\n",
      "2.View Contact\n",
      "3.Search Contact\n",
      "4.Edit Contact\n",
      "5.Delete Contact\n",
      "6.Exit\n",
      "Enter your choice:4\n",
      "Enter name to edit:usman\n",
      "Editing Contact: {name}\n",
      "Enter new phone number:0321553779\n",
      "Contact updated successfully!\n",
      "Contact Management System\n",
      "1.Add Contact\n",
      "2.View Contact\n",
      "3.Search Contact\n",
      "4.Edit Contact\n",
      "5.Delete Contact\n",
      "6.Exit\n",
      "Enter your choice:6\n",
      "Exiting Contact\n",
      "Contact Management System\n",
      "1.Add Contact\n",
      "2.View Contact\n",
      "3.Search Contact\n",
      "4.Edit Contact\n",
      "5.Delete Contact\n",
      "6.Exit\n",
      "Enter your choice:5\n",
      "Enter name to delete:usman\n",
      "Contact deleted successfully!\n",
      "Contact Management System\n",
      "1.Add Contact\n",
      "2.View Contact\n",
      "3.Search Contact\n",
      "4.Edit Contact\n",
      "5.Delete Contact\n",
      "6.Exit\n",
      "Enter your choice:6\n",
      "Exiting Contact\n",
      "Contact Management System\n",
      "1.Add Contact\n",
      "2.View Contact\n",
      "3.Search Contact\n",
      "4.Edit Contact\n",
      "5.Delete Contact\n",
      "6.Exit\n"
     ]
    }
   ],
   "source": [
    "while True:\n",
    "    show_menu()\n",
    "    choice = input(\"Enter your choice:\")\n",
    "    \n",
    "    if choice == '1':\n",
    "        add_contact()\n",
    "    elif choice == '2':\n",
    "        view_contact()\n",
    "    elif choice == '3':\n",
    "        search_contact()\n",
    "    elif choice == '4':\n",
    "        edit_contact()  \n",
    "    elif choice == '5':\n",
    "        delete_contact()\n",
    "    elif choice == '6':\n",
    "        print(\"Exiting Contact\")\n",
    "    else:\n",
    "        print(\"invalid contact.please select a valid option\")\n",
    "    "
   ]
  },
  {
   "cell_type": "code",
   "execution_count": null,
   "id": "8f862999",
   "metadata": {},
   "outputs": [],
   "source": []
  }
 ],
 "metadata": {
  "kernelspec": {
   "display_name": "Python 3 (ipykernel)",
   "language": "python",
   "name": "python3"
  },
  "language_info": {
   "codemirror_mode": {
    "name": "ipython",
    "version": 3
   },
   "file_extension": ".py",
   "mimetype": "text/x-python",
   "name": "python",
   "nbconvert_exporter": "python",
   "pygments_lexer": "ipython3",
   "version": "3.11.3"
  }
 },
 "nbformat": 4,
 "nbformat_minor": 5
}

{
 "cells": [
  {
   "cell_type": "code",
   "execution_count": 1,
   "id": "a594637f",
   "metadata": {},
   "outputs": [
    {
     "name": "stdout",
     "output_type": "stream",
     "text": [
      "welcome\n"
     ]
    }
   ],
   "source": [
    "print(\"welcome\")"
   ]
  },
  {
   "cell_type": "code",
   "execution_count": 1,
   "id": "a05ee725",
   "metadata": {},
   "outputs": [
    {
     "name": "stdout",
     "output_type": "stream",
     "text": [
      "its new project\n"
     ]
    }
   ],
   "source": [
    "print(\"its new project\")"
   ]
  },
  {
   "cell_type": "markdown",
   "id": "2aaecd5e",
   "metadata": {},
   "source": [
    "# project Contact Management System"
   ]
  },
  {
   "cell_type": "code",
   "execution_count": 1,
   "id": "d3620054",
   "metadata": {},
   "outputs": [],
   "source": [
    "contacts = dict()"
   ]
  },
  {
   "cell_type": "code",
   "execution_count": 2,
   "id": "9f578923",
   "metadata": {},
   "outputs": [],
   "source": [
    "def show_menu():\n",
    "    print(\"Contact Management System\")\n",
    "    print(\"1.Add Contact\")\n",
    "    print(\"2.View Contact\")\n",
    "    print(\"3.Search Contact\")\n",
    "    print(\"4.Edit Contact\")\n",
    "    print(\"5.Delete Contact\")\n",
    "    print(\"6.Exit\")"
   ]
  },
  {
   "cell_type": "code",
   "execution_count": 3,
   "id": "ac6a692e",
   "metadata": {},
   "outputs": [],
   "source": [
    "def add_contact():\n",
    "    Name = input(\"Enter your name:\")\n",
    "    Phone = input(\"Enter your phone:\")\n",
    "    contacts[Name] = Phone\n",
    "    print(\"Contacts added successfully\")"
   ]
  },
  {
   "cell_type": "code",
   "execution_count": 5,
   "id": "ea363656",
   "metadata": {},
   "outputs": [],
   "source": [
    "def view_contact():\n",
    "    if contacts:\n",
    "        print(\"Contacts:\")\n",
    "        for name in contacts:\n",
    "            print(\"Name:{r}\")\n",
    "    else:\n",
    "        print(\"No contacts\")"
   ]
  },
  {
   "cell_type": "code",
   "execution_count": 6,
   "id": "e4b632aa",
   "metadata": {},
   "outputs": [],
   "source": [
    "def search_contact():\n",
    "    Name = input(\"Enter your name:\")\n",
    "    if name in contacts:\n",
    "        details = contacts\n",
    "        print(\"Name:{r}\")\n",
    "    else:\n",
    "        print(\"Contact not searching\")"
   ]
  },
  {
   "cell_type": "code",
   "execution_count": 7,
   "id": "5d9dbd43",
   "metadata": {},
   "outputs": [],
   "source": [
    "def edit_contact():\n",
    "    Name = input(\"Enter your name:\")\n",
    "    if name in contacts:\n",
    "        print(\"Editing Contact\")\n",
    "        Phone = input(\"Enter your phone:\")\n",
    "        contacts[Name] = Phone\n",
    "        print(\"Contact updated successfully\")\n",
    "    else:\n",
    "        print(\"Contact not edit\")"
   ]
  },
  {
   "cell_type": "code",
   "execution_count": 9,
   "id": "7e5d84cc",
   "metadata": {},
   "outputs": [
    {
     "ename": "SyntaxError",
     "evalue": "invalid syntax (3748760791.py, line 4)",
     "output_type": "error",
     "traceback": [
      "\u001b[1;36m  Cell \u001b[1;32mIn[9], line 4\u001b[1;36m\u001b[0m\n\u001b[1;33m    del contacts[Name] = Phone\u001b[0m\n\u001b[1;37m                       ^\u001b[0m\n\u001b[1;31mSyntaxError\u001b[0m\u001b[1;31m:\u001b[0m invalid syntax\n"
     ]
    }
   ],
   "source": [
    "def delete_contact():\n",
    "    Name = input(\"Enter your name:\")\n",
    "    if name in contacts:\n",
    "        del contacts[Name] = Phone\n",
    "        print(\"Contact remove successfully\")\n",
    "    else:\n",
    "        print(\"Contact not delete\")"
   ]
  },
  {
   "cell_type": "code",
   "execution_count": null,
   "id": "2a209010",
   "metadata": {},
   "outputs": [
    {
     "name": "stdout",
     "output_type": "stream",
     "text": [
      "Contact Management System\n",
      "1.Add Contact\n",
      "2.View Contact\n",
      "3.Search Contact\n",
      "4.Edit Contact\n",
      "5.Delete Contact\n",
      "6.Exit\n",
      "Enter your choice:1\n",
      "Contact Management System\n",
      "1.Add Contact\n",
      "2.View Contact\n",
      "3.Search Contact\n",
      "4.Edit Contact\n",
      "5.Delete Contact\n",
      "6.Exit\n"
     ]
    }
   ],
   "source": [
    "while True:\n",
    "    show_menu()\n",
    "    choice = input(\"Enter your choice:\")\n",
    "    \n",
    "if choice == '1':\n",
    "    add_contact()\n",
    "elif choice == '2':\n",
    "    view_contact()\n",
    "elif choice == '3':\n",
    "    search_contact()\n",
    "elif choice == '4':\n",
    "    edit_contact()  \n",
    "elif choice == '5':\n",
    "    delete_contact()\n",
    "elif choice == '6':\n",
    "    print(\"Exiting Contact\")\n",
    "else:\n",
    "    print(\"invalid contact\")\n",
    "    "
   ]
  },
  {
   "cell_type": "code",
   "execution_count": null,
   "id": "3aa1b5a9",
   "metadata": {},
   "outputs": [],
   "source": []
  }
 ],
 "metadata": {
  "kernelspec": {
   "display_name": "Python 3 (ipykernel)",
   "language": "python",
   "name": "python3"
  },
  "language_info": {
   "codemirror_mode": {
    "name": "ipython",
    "version": 3
   },
   "file_extension": ".py",
   "mimetype": "text/x-python",
   "name": "python",
   "nbconvert_exporter": "python",
   "pygments_lexer": "ipython3",
   "version": "3.11.3"
  }
 },
 "nbformat": 4,
 "nbformat_minor": 5
}

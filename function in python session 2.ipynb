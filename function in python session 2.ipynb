{
 "cells": [
  {
   "cell_type": "code",
   "execution_count": 4,
   "id": "4e306639",
   "metadata": {},
   "outputs": [
    {
     "name": "stdout",
     "output_type": "stream",
     "text": [
      "please enter a number:4\n",
      "the number is even\n"
     ]
    }
   ],
   "source": [
    "number = int(input(\"please enter a number:\"))\n",
    "if(number % 2 == 0):\n",
    "    print(\"the number is even\")\n",
    "else:\n",
    "    print(\"the number is odd\")\n",
    "             \n"
   ]
  },
  {
   "cell_type": "code",
   "execution_count": 5,
   "id": "fd97ae17",
   "metadata": {},
   "outputs": [],
   "source": [
    "def even_odd():\n",
    "    number = int(input(\"please enter a number:\"))\n",
    "    if(number % 2 == 0):\n",
    "        print(\"the number is even\")\n",
    "    else:\n",
    "        print(\"the number is odd\")\n",
    "             "
   ]
  },
  {
   "cell_type": "code",
   "execution_count": 6,
   "id": "c72a343c",
   "metadata": {},
   "outputs": [
    {
     "name": "stdout",
     "output_type": "stream",
     "text": [
      "please enter a number:3\n",
      "the number is odd\n"
     ]
    }
   ],
   "source": [
    "even_odd()"
   ]
  },
  {
   "cell_type": "code",
   "execution_count": 16,
   "id": "32a30b85",
   "metadata": {},
   "outputs": [],
   "source": [
    "def input_num():\n",
    "    number = int(input(\"please enter a number:\"))\n",
    "    return number\n"
   ]
  },
  {
   "cell_type": "code",
   "execution_count": 21,
   "id": "db1a0cd0",
   "metadata": {},
   "outputs": [],
   "source": [
    "def check_number(num):\n",
    "    if(number % 2 == 0):\n",
    "        print(\"the number is even\")\n",
    "    else:\n",
    "        print(\"the number is odd\")\n",
    "        "
   ]
  },
  {
   "cell_type": "code",
   "execution_count": 22,
   "id": "e5ee98c0",
   "metadata": {},
   "outputs": [
    {
     "name": "stdout",
     "output_type": "stream",
     "text": [
      "please enter a number:4\n",
      "the number is even\n"
     ]
    }
   ],
   "source": [
    "number = input_num()\n",
    "check_number(number)"
   ]
  },
  {
   "cell_type": "raw",
   "id": "079fe3da",
   "metadata": {},
   "source": []
  },
  {
   "cell_type": "code",
   "execution_count": null,
   "id": "51ce4d38",
   "metadata": {},
   "outputs": [],
   "source": []
  }
 ],
 "metadata": {
  "kernelspec": {
   "display_name": "Python 3 (ipykernel)",
   "language": "python",
   "name": "python3"
  },
  "language_info": {
   "codemirror_mode": {
    "name": "ipython",
    "version": 3
   },
   "file_extension": ".py",
   "mimetype": "text/x-python",
   "name": "python",
   "nbconvert_exporter": "python",
   "pygments_lexer": "ipython3",
   "version": "3.11.3"
  }
 },
 "nbformat": 4,
 "nbformat_minor": 5
}

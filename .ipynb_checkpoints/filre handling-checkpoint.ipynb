{
 "cells": [
  {
   "cell_type": "code",
   "execution_count": 1,
   "id": "b76e225f",
   "metadata": {},
   "outputs": [],
   "source": [
    "## file handling"
   ]
  },
  {
   "cell_type": "code",
   "execution_count": 2,
   "id": "915b72d5",
   "metadata": {},
   "outputs": [],
   "source": [
    "myfile = open(\"dexplorex.txt\",'w')\n",
    "myfile.write(\"helo i am hamna and i am a new from python in dexplorex\\n\")\n",
    "myfile.write(\"\\nhello there!\")\n",
    "myfile.close()"
   ]
  },
  {
   "cell_type": "code",
   "execution_count": 4,
   "id": "ea0a2e71",
   "metadata": {},
   "outputs": [
    {
     "name": "stdout",
     "output_type": "stream",
     "text": [
      "enter any text to write in a file :hello world\n"
     ]
    }
   ],
   "source": [
    "text = input(\"enter any text to write in a file :\")\n",
    "user_file=open(\"user.txt\",'w')\n",
    "user_file.write(text)\n",
    "user_file.close()"
   ]
  },
  {
   "cell_type": "code",
   "execution_count": 15,
   "id": "dc2555ba",
   "metadata": {},
   "outputs": [
    {
     "name": "stdout",
     "output_type": "stream",
     "text": [
      "enter any text to write in a file:hello bacho\n"
     ]
    }
   ],
   "source": [
    "text = input(\"enter any text to write in a file:\")\n",
    "teach_file = open(\"tech.txt\",'w')\n",
    "teach_file.write(text)\n",
    "teach_file.close()"
   ]
  },
  {
   "cell_type": "code",
   "execution_count": 16,
   "id": "e5ca6413",
   "metadata": {},
   "outputs": [
    {
     "name": "stdout",
     "output_type": "stream",
     "text": [
      "enter any text to write in a file:Assalamualaikum\n"
     ]
    }
   ],
   "source": [
    "text = input(\"enter any text to write in a file:\")\n",
    "teach_file = open(\"tech.csv\",'w')\n",
    "teach_file.write(text)\n",
    "teach_file.close()"
   ]
  },
  {
   "cell_type": "code",
   "execution_count": 17,
   "id": "399c6fac",
   "metadata": {},
   "outputs": [
    {
     "name": "stdout",
     "output_type": "stream",
     "text": [
      "helo i am hamna and i am a new from python in dexplorex\n",
      "\n",
      "hello there!\n"
     ]
    }
   ],
   "source": [
    "other = open(\"dexplorex.txt\",'r')\n",
    "a = other.read()\n",
    "print(a)"
   ]
  },
  {
   "cell_type": "code",
   "execution_count": null,
   "id": "196c2125",
   "metadata": {},
   "outputs": [],
   "source": []
  }
 ],
 "metadata": {
  "kernelspec": {
   "display_name": "Python 3 (ipykernel)",
   "language": "python",
   "name": "python3"
  },
  "language_info": {
   "codemirror_mode": {
    "name": "ipython",
    "version": 3
   },
   "file_extension": ".py",
   "mimetype": "text/x-python",
   "name": "python",
   "nbconvert_exporter": "python",
   "pygments_lexer": "ipython3",
   "version": "3.11.3"
  }
 },
 "nbformat": 4,
 "nbformat_minor": 5
}

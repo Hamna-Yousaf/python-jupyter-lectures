{
 "cells": [
  {
   "cell_type": "code",
   "execution_count": 3,
   "id": "cc6b8cf3",
   "metadata": {},
   "outputs": [
    {
     "name": "stdout",
     "output_type": "stream",
     "text": [
      "enter a number:4\n",
      "enter a second number:5\n",
      "enter 1.for addition \n",
      " 2.for subtration \n",
      " 3.for multiplication \n",
      " 4.for division3\n",
      "the multiplication of number is 20\n"
     ]
    }
   ],
   "source": [
    "a = int(input(\"enter a number:\"))\n",
    "b = int (input(\"enter a second number:\"))\n",
    "\n",
    "choice = int(input(\"enter 1.for addition \\n 2.for subtration \\n 3.for multiplication \\n 4.for division \\n 5.for mudulus:\"))\n",
    "\n",
    "if(choice == 1):\n",
    "    res = a+b\n",
    "    print(\"the sum of number is:\",res)\n",
    "elif(choice == 2):\n",
    "    res = a-b\n",
    "    print(\"the subtraction of number is\",res)\n",
    "elif(choice == 3):\n",
    "    res = a*b\n",
    "    print(\"the multiplication of number is\",res)\n",
    "elif(choice == 4):\n",
    "    res = a/b\n",
    "    print(\"the division of number is\",res)\n",
    "elif(choice == 5):\n",
    "    res = a%b\n",
    "    print(\"the mudulus of number is\",res)\n",
    "else:\n",
    "    print(\"enter right choice\")\n"
   ]
  },
  {
   "cell_type": "code",
   "execution_count": 4,
   "id": "b0b6a613",
   "metadata": {},
   "outputs": [],
   "source": [
    "def input_var():\n",
    "    a = int(input(\"enter a number:\"))\n",
    "    b = int (input(\"enter a second number:\"))\n",
    "    \n",
    "    return a,b\n",
    "\n",
    "def choice():\n",
    "    ch = int(input(\"enter 1.for addition \\n 2.for subtration \\n 3.for multiplication \\n 4.for division \\n 5.for mudulus:\"))\n",
    "    return ch\n",
    "\n",
    "def calculation(a,b,choice):\n",
    "    if(choice == 1):\n",
    "        res = a+b\n",
    "        print(\"the sum of number is:\",res)\n",
    "    elif(choice == 2):\n",
    "            res = a-b\n",
    "            print(\"the subtraction of number is\",res)\n",
    "    elif(choice == 3):\n",
    "        res = a*b\n",
    "        print(\"the multiplication of number is\",res)\n",
    "    elif(choice == 4):\n",
    "        res = a/b\n",
    "        print(\"the division of number is\",res)\n",
    "    elif(choice == 5):\n",
    "        res = a%b\n",
    "        print(\"the mudulus of number is\",res)\n",
    "    else:\n",
    "        print(\"enter right choice\")\n",
    "\n",
    "\n",
    "  \n",
    "    \n",
    "\n",
    "\n",
    "\n",
    "\n"
   ]
  },
  {
   "cell_type": "code",
   "execution_count": 5,
   "id": "68569d14",
   "metadata": {},
   "outputs": [
    {
     "name": "stdout",
     "output_type": "stream",
     "text": [
      "enter a number:5\n",
      "enter a second number:8\n",
      "enter 1.for addition \n",
      " 2.for subtration \n",
      " 3.for multiplication \n",
      " 4.for division \n",
      " 5.for mudulus:4\n",
      "the division of number is 0.625\n"
     ]
    }
   ],
   "source": [
    "a,b=input_var()  # calling function\n",
    "choice=choice()\n",
    "calculation(a,b,choice)"
   ]
  },
  {
   "cell_type": "code",
   "execution_count": null,
   "id": "e25faa2a",
   "metadata": {},
   "outputs": [],
   "source": []
  }
 ],
 "metadata": {
  "kernelspec": {
   "display_name": "Python 3 (ipykernel)",
   "language": "python",
   "name": "python3"
  },
  "language_info": {
   "codemirror_mode": {
    "name": "ipython",
    "version": 3
   },
   "file_extension": ".py",
   "mimetype": "text/x-python",
   "name": "python",
   "nbconvert_exporter": "python",
   "pygments_lexer": "ipython3",
   "version": "3.11.3"
  }
 },
 "nbformat": 4,
 "nbformat_minor": 5
}

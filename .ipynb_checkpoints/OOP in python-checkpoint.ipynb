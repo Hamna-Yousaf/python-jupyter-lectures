{
 "cells": [
  {
   "cell_type": "markdown",
   "id": "ccd7ee9e",
   "metadata": {},
   "source": [
    "# OOPS (object oreinted program)\n",
    "OBJECT: object have two cataggaries \n",
    "* Method/function\n",
    "* Data/attributes\n",
    "### There are four principle of object\n",
    "Encapsulation\n",
    "Data abstraction\n",
    "Inheritance \n",
    "Polymorphism \n",
    "## what is object?\n",
    "It is a basic run time entities \n",
    "It can be place,person,bank acccount\n",
    "When the program executed the objects send messages to one another\n",
    "## What is class?\n",
    " Class is a special kind of thing which define how to build kind of class. It always start with capital letters and method can be made same as function\n",
    "### def add(self n1,n2)\n",
    "__init__\n",
    "\n",
    "   "
   ]
  },
  {
   "cell_type": "code",
   "execution_count": 31,
   "id": "54dfdef1",
   "metadata": {},
   "outputs": [],
   "source": [
    "#clases\n",
    "class Student:\n",
    "    def __init__(self,n,a):\n",
    "        self.name=n\n",
    "        self.age=a\n",
    "    def get_age(self):\n",
    "        return self.age\n",
    "    def get_name(self):\n",
    "        return self.name\n",
    "    \n",
    "        "
   ]
  },
  {
   "cell_type": "code",
   "execution_count": 32,
   "id": "f4433ebb",
   "metadata": {},
   "outputs": [],
   "source": [
    "a = Student(\"ali\",18)\n"
   ]
  },
  {
   "cell_type": "code",
   "execution_count": 33,
   "id": "b50ff83a",
   "metadata": {},
   "outputs": [
    {
     "data": {
      "text/plain": [
       "18"
      ]
     },
     "execution_count": 33,
     "metadata": {},
     "output_type": "execute_result"
    }
   ],
   "source": [
    "a.age"
   ]
  },
  {
   "cell_type": "code",
   "execution_count": 34,
   "id": "f9aa3d39",
   "metadata": {},
   "outputs": [
    {
     "data": {
      "text/plain": [
       "'ali'"
      ]
     },
     "execution_count": 34,
     "metadata": {},
     "output_type": "execute_result"
    }
   ],
   "source": [
    "a.name"
   ]
  },
  {
   "cell_type": "code",
   "execution_count": 35,
   "id": "484a5e99",
   "metadata": {},
   "outputs": [
    {
     "data": {
      "text/plain": [
       "18"
      ]
     },
     "execution_count": 35,
     "metadata": {},
     "output_type": "execute_result"
    }
   ],
   "source": [
    "a.get_age()\n"
   ]
  },
  {
   "cell_type": "code",
   "execution_count": 36,
   "id": "929b1c22",
   "metadata": {},
   "outputs": [
    {
     "data": {
      "text/plain": [
       "'ali'"
      ]
     },
     "execution_count": 36,
     "metadata": {},
     "output_type": "execute_result"
    }
   ],
   "source": [
    "a.get_name()"
   ]
  },
  {
   "cell_type": "code",
   "execution_count": 37,
   "id": "879faeea",
   "metadata": {},
   "outputs": [],
   "source": [
    "b = Student(\"hamna\",20)"
   ]
  },
  {
   "cell_type": "code",
   "execution_count": 38,
   "id": "0c318512",
   "metadata": {},
   "outputs": [
    {
     "data": {
      "text/plain": [
       "'hamna'"
      ]
     },
     "execution_count": 38,
     "metadata": {},
     "output_type": "execute_result"
    }
   ],
   "source": [
    "b.name"
   ]
  },
  {
   "cell_type": "code",
   "execution_count": 39,
   "id": "401e19ae",
   "metadata": {},
   "outputs": [
    {
     "data": {
      "text/plain": [
       "20"
      ]
     },
     "execution_count": 39,
     "metadata": {},
     "output_type": "execute_result"
    }
   ],
   "source": [
    "b.age"
   ]
  },
  {
   "cell_type": "code",
   "execution_count": 40,
   "id": "c794095f",
   "metadata": {},
   "outputs": [
    {
     "data": {
      "text/plain": [
       "20"
      ]
     },
     "execution_count": 40,
     "metadata": {},
     "output_type": "execute_result"
    }
   ],
   "source": [
    "b.get_age()"
   ]
  },
  {
   "cell_type": "code",
   "execution_count": 41,
   "id": "a5f31526",
   "metadata": {},
   "outputs": [
    {
     "data": {
      "text/plain": [
       "'hamna'"
      ]
     },
     "execution_count": 41,
     "metadata": {},
     "output_type": "execute_result"
    }
   ],
   "source": [
    "b.get_name()"
   ]
  },
  {
   "cell_type": "code",
   "execution_count": null,
   "id": "7ce87d4d",
   "metadata": {},
   "outputs": [],
   "source": []
  }
 ],
 "metadata": {
  "kernelspec": {
   "display_name": "Python 3 (ipykernel)",
   "language": "python",
   "name": "python3"
  },
  "language_info": {
   "codemirror_mode": {
    "name": "ipython",
    "version": 3
   },
   "file_extension": ".py",
   "mimetype": "text/x-python",
   "name": "python",
   "nbconvert_exporter": "python",
   "pygments_lexer": "ipython3",
   "version": "3.11.3"
  }
 },
 "nbformat": 4,
 "nbformat_minor": 5
}

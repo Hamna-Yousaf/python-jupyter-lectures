{
 "cells": [
  {
   "cell_type": "code",
   "execution_count": 1,
   "id": "735f76ac",
   "metadata": {},
   "outputs": [],
   "source": [
    "a = [1,2,3,4]  # list is mutable\n"
   ]
  },
  {
   "cell_type": "code",
   "execution_count": 2,
   "id": "4889267b",
   "metadata": {},
   "outputs": [],
   "source": [
    "a[0]='7'"
   ]
  },
  {
   "cell_type": "code",
   "execution_count": 3,
   "id": "11b584e4",
   "metadata": {},
   "outputs": [
    {
     "data": {
      "text/plain": [
       "['7', 2, 3, 4]"
      ]
     },
     "execution_count": 3,
     "metadata": {},
     "output_type": "execute_result"
    }
   ],
   "source": [
    "a"
   ]
  },
  {
   "cell_type": "code",
   "execution_count": 4,
   "id": "9226219f",
   "metadata": {},
   "outputs": [],
   "source": [
    "a = (1,2,3,4)  # tuple is immutable"
   ]
  },
  {
   "cell_type": "code",
   "execution_count": 5,
   "id": "fa0274a4",
   "metadata": {},
   "outputs": [
    {
     "ename": "TypeError",
     "evalue": "'tuple' object does not support item assignment",
     "output_type": "error",
     "traceback": [
      "\u001b[1;31m---------------------------------------------------------------------------\u001b[0m",
      "\u001b[1;31mTypeError\u001b[0m                                 Traceback (most recent call last)",
      "Cell \u001b[1;32mIn[5], line 1\u001b[0m\n\u001b[1;32m----> 1\u001b[0m a[\u001b[38;5;241m0\u001b[39m] \u001b[38;5;241m=\u001b[39m \u001b[38;5;124m'\u001b[39m\u001b[38;5;124m7\u001b[39m\u001b[38;5;124m'\u001b[39m\n",
      "\u001b[1;31mTypeError\u001b[0m: 'tuple' object does not support item assignment"
     ]
    }
   ],
   "source": [
    "a[0] = '7'"
   ]
  },
  {
   "cell_type": "code",
   "execution_count": 6,
   "id": "e3ca3134",
   "metadata": {},
   "outputs": [],
   "source": [
    "y=tuple()"
   ]
  },
  {
   "cell_type": "code",
   "execution_count": 7,
   "id": "349fefcc",
   "metadata": {},
   "outputs": [
    {
     "data": {
      "text/plain": [
       "()"
      ]
     },
     "execution_count": 7,
     "metadata": {},
     "output_type": "execute_result"
    }
   ],
   "source": [
    "y"
   ]
  },
  {
   "cell_type": "code",
   "execution_count": 8,
   "id": "f15199ef",
   "metadata": {},
   "outputs": [
    {
     "data": {
      "text/plain": [
       "tuple"
      ]
     },
     "execution_count": 8,
     "metadata": {},
     "output_type": "execute_result"
    }
   ],
   "source": [
    "type(y)"
   ]
  },
  {
   "cell_type": "code",
   "execution_count": 11,
   "id": "5d2fa9b8",
   "metadata": {},
   "outputs": [],
   "source": [
    "def create_tuple():\n",
    "    fruits = ('apple','banana','mango','grapes')\n",
    "    for f in fruits:\n",
    "        print(f)"
   ]
  },
  {
   "cell_type": "code",
   "execution_count": 12,
   "id": "543ec85a",
   "metadata": {},
   "outputs": [
    {
     "name": "stdout",
     "output_type": "stream",
     "text": [
      "apple\n",
      "banana\n",
      "mango\n",
      "grapes\n"
     ]
    }
   ],
   "source": [
    "create_tuple()"
   ]
  },
  {
   "cell_type": "code",
   "execution_count": 13,
   "id": "492bdbeb",
   "metadata": {},
   "outputs": [],
   "source": [
    "fruits = ('apple','bnana','cherry')"
   ]
  },
  {
   "cell_type": "code",
   "execution_count": 14,
   "id": "7bf0aa6c",
   "metadata": {},
   "outputs": [
    {
     "name": "stdout",
     "output_type": "stream",
     "text": [
      "yes\n"
     ]
    }
   ],
   "source": [
    "if \"apple\" in fruits:\n",
    "    print(\"yes\")"
   ]
  },
  {
   "cell_type": "code",
   "execution_count": 15,
   "id": "8c230197",
   "metadata": {},
   "outputs": [],
   "source": [
    "def create_tuple():\n",
    "    fruits = ('banana','apple','mango')\n",
    "    veg = ('piyaz','gobhi','alu')\n",
    "    for f in fruits:\n",
    "        print(f)"
   ]
  },
  {
   "cell_type": "code",
   "execution_count": 16,
   "id": "7ea40349",
   "metadata": {},
   "outputs": [
    {
     "name": "stdout",
     "output_type": "stream",
     "text": [
      "banana\n",
      "apple\n",
      "mango\n"
     ]
    }
   ],
   "source": [
    "create_tuple()"
   ]
  },
  {
   "cell_type": "code",
   "execution_count": 18,
   "id": "1ffed959",
   "metadata": {},
   "outputs": [],
   "source": [
    "def create_tuple():\n",
    "    fruits = ('banana','apple','mango')\n",
    "    veg = ('piyaz','gobhi','alu')  # local variable\n",
    "    for f in fruits:\n",
    "        print(f)\n",
    "    "
   ]
  },
  {
   "cell_type": "code",
   "execution_count": null,
   "id": "1ff44196",
   "metadata": {},
   "outputs": [],
   "source": [
    "# local variable:\n",
    "# global variable:"
   ]
  },
  {
   "cell_type": "code",
   "execution_count": 19,
   "id": "57fe94ee",
   "metadata": {},
   "outputs": [
    {
     "ename": "NameError",
     "evalue": "name 'veg' is not defined",
     "output_type": "error",
     "traceback": [
      "\u001b[1;31m---------------------------------------------------------------------------\u001b[0m",
      "\u001b[1;31mNameError\u001b[0m                                 Traceback (most recent call last)",
      "Cell \u001b[1;32mIn[19], line 1\u001b[0m\n\u001b[1;32m----> 1\u001b[0m \u001b[38;5;28;01mfor\u001b[39;00m v \u001b[38;5;129;01min\u001b[39;00m veg:\n\u001b[0;32m      2\u001b[0m     \u001b[38;5;28mprint\u001b[39m(v)\n",
      "\u001b[1;31mNameError\u001b[0m: name 'veg' is not defined"
     ]
    }
   ],
   "source": [
    "for v in veg:\n",
    "    print(v)"
   ]
  },
  {
   "cell_type": "code",
   "execution_count": 20,
   "id": "405e5d54",
   "metadata": {},
   "outputs": [],
   "source": [
    " # tuple function"
   ]
  },
  {
   "cell_type": "code",
   "execution_count": 26,
   "id": "303d8cb2",
   "metadata": {},
   "outputs": [
    {
     "data": {
      "text/plain": [
       "2"
      ]
     },
     "execution_count": 26,
     "metadata": {},
     "output_type": "execute_result"
    }
   ],
   "source": [
    "fruits = ('apple','banana','banana','mango','grapes')\n",
    "\n",
    "fruits.count(\"banana\")\n",
    "\n"
   ]
  },
  {
   "cell_type": "code",
   "execution_count": 27,
   "id": "ad2f2630",
   "metadata": {},
   "outputs": [
    {
     "data": {
      "text/plain": [
       "1"
      ]
     },
     "execution_count": 27,
     "metadata": {},
     "output_type": "execute_result"
    }
   ],
   "source": [
    "fruits.index(\"banana\")"
   ]
  },
  {
   "cell_type": "code",
   "execution_count": null,
   "id": "cb3b3c35",
   "metadata": {},
   "outputs": [],
   "source": []
  }
 ],
 "metadata": {
  "kernelspec": {
   "display_name": "Python 3 (ipykernel)",
   "language": "python",
   "name": "python3"
  },
  "language_info": {
   "codemirror_mode": {
    "name": "ipython",
    "version": 3
   },
   "file_extension": ".py",
   "mimetype": "text/x-python",
   "name": "python",
   "nbconvert_exporter": "python",
   "pygments_lexer": "ipython3",
   "version": "3.11.3"
  }
 },
 "nbformat": 4,
 "nbformat_minor": 5
}

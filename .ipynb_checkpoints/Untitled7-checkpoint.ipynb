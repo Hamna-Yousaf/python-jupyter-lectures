{
 "cells": [
  {
   "cell_type": "markdown",
   "id": "5f11753c",
   "metadata": {},
   "source": [
    "# looping structures"
   ]
  },
  {
   "cell_type": "code",
   "execution_count": 1,
   "id": "0ec3413b",
   "metadata": {},
   "outputs": [
    {
     "name": "stdout",
     "output_type": "stream",
     "text": [
      "i= 1\n",
      "i= 2\n",
      "i= 3\n",
      "i= 4\n",
      "i= 5\n",
      "loop end\n"
     ]
    }
   ],
   "source": [
    "# while loop\n",
    "i=1\n",
    "while(i<=5):\n",
    "    print(\"i=\",i)\n",
    "    i=i+1\n",
    "print(\"loop end\")"
   ]
  },
  {
   "cell_type": "code",
   "execution_count": 3,
   "id": "5fce0582",
   "metadata": {},
   "outputs": [
    {
     "name": "stdout",
     "output_type": "stream",
     "text": [
      "i= 10\n",
      "i= 9\n",
      "i= 8\n",
      "i= 7\n",
      "i= 6\n",
      "i= 5\n",
      "i= 4\n",
      "i= 3\n",
      "i= 2\n",
      "i= 1\n",
      "loop end\n"
     ]
    }
   ],
   "source": [
    "i=10\n",
    "while(i>=1):\n",
    "    print(\"i=\",i)\n",
    "    i=i-1\n",
    "print(\"loop end\")\n"
   ]
  },
  {
   "cell_type": "code",
   "execution_count": 4,
   "id": "33be96d5",
   "metadata": {},
   "outputs": [
    {
     "name": "stdout",
     "output_type": "stream",
     "text": [
      "please enter your age:14\n",
      "your age is: 14\n"
     ]
    }
   ],
   "source": [
    "age=int(input(\"please enter your age:\"))\n",
    "\n",
    "\n",
    "while(age < 0):\n",
    "    age=int(input(\"please enter your age:\"))\n",
    "print(\"your age is:\",age)"
   ]
  },
  {
   "cell_type": "code",
   "execution_count": 7,
   "id": "b75ee7c2",
   "metadata": {},
   "outputs": [
    {
     "name": "stdout",
     "output_type": "stream",
     "text": [
      "please enter your percentage:87\n",
      "A\n"
     ]
    }
   ],
   "source": [
    "perc=float(input(\"please enter your percentage:\"))\n",
    "while(perc < 0):\n",
    "    perc=float(input(\"please enter your percentage:\"))\n",
    "else:\n",
    "    if(perc > 80):\n",
    "        print(\"A\")\n",
    "    elif(perc > 70):\n",
    "        print(\"B\")\n",
    "    elif(perc > 60):\n",
    "        print(\"C\")\n",
    "    elif(perc > 50):\n",
    "        print(\"D\")\n",
    "    elif(perc > 40):\n",
    "        print(\"E\")\n",
    "    elif(perc > 30):\n",
    "        print(\"F\")\n",
    "    else:\n",
    "        print(\"invalid grade\")\n",
    "    "
   ]
  },
  {
   "cell_type": "code",
   "execution_count": 8,
   "id": "ce5fbbd4",
   "metadata": {},
   "outputs": [],
   "source": [
    "# for loop"
   ]
  },
  {
   "cell_type": "code",
   "execution_count": 10,
   "id": "3e3860c0",
   "metadata": {},
   "outputs": [
    {
     "name": "stdout",
     "output_type": "stream",
     "text": [
      "i: 1\n",
      "i: 2\n",
      "i: 3\n",
      "i: 4\n",
      "i: 5\n",
      "i: 6\n",
      "i: 7\n",
      "i: 8\n",
      "i: 9\n",
      "i: 10\n",
      "Done\n"
     ]
    }
   ],
   "source": [
    "for i in range(1,11):\n",
    "    print(\"i:\",i)\n",
    "    i=i+1\n",
    "print(\"Done\")"
   ]
  },
  {
   "cell_type": "code",
   "execution_count": 12,
   "id": "aaa3b505",
   "metadata": {},
   "outputs": [
    {
     "name": "stdout",
     "output_type": "stream",
     "text": [
      "Hello\n",
      "Hello\n",
      "Hello\n"
     ]
    }
   ],
   "source": [
    "Name = 'ali'\n",
    "for i in Name:\n",
    "    print(\"Hello\")\n",
    "    \n"
   ]
  },
  {
   "cell_type": "code",
   "execution_count": 14,
   "id": "72db6517",
   "metadata": {},
   "outputs": [
    {
     "name": "stdout",
     "output_type": "stream",
     "text": [
      "what are you doing now:playing\n",
      "p\n",
      "l\n",
      "a\n",
      "y\n",
      "i\n",
      "n\n",
      "g\n"
     ]
    }
   ],
   "source": [
    "activity=input(\"what are you doing now:\")\n",
    "\n",
    "for ch in activity:\n",
    "    print(ch)\n",
    "    "
   ]
  },
  {
   "cell_type": "code",
   "execution_count": 16,
   "id": "3a080ea2",
   "metadata": {},
   "outputs": [
    {
     "name": "stdout",
     "output_type": "stream",
     "text": [
      "please enter a lower alphabets:asdsfdgrgtrh\n",
      "a\n",
      "s\n",
      "d\n",
      "s\n",
      "f\n",
      "d\n",
      "g\n",
      "r\n",
      "g\n",
      "t\n",
      "r\n",
      "h\n",
      "done\n"
     ]
    }
   ],
   "source": [
    "str=input(\"please enter a lower alphabets:\")\n",
    "for temp in str:\n",
    "    if(temp <'a') or (temp > 'z'):\n",
    "        break\n",
    "    print(temp)\n",
    "print(\"done\")"
   ]
  },
  {
   "cell_type": "code",
   "execution_count": null,
   "id": "ee90a800",
   "metadata": {},
   "outputs": [],
   "source": []
  }
 ],
 "metadata": {
  "kernelspec": {
   "display_name": "Python 3 (ipykernel)",
   "language": "python",
   "name": "python3"
  },
  "language_info": {
   "codemirror_mode": {
    "name": "ipython",
    "version": 3
   },
   "file_extension": ".py",
   "mimetype": "text/x-python",
   "name": "python",
   "nbconvert_exporter": "python",
   "pygments_lexer": "ipython3",
   "version": "3.11.3"
  }
 },
 "nbformat": 4,
 "nbformat_minor": 5
}

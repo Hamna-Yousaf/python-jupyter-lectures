{
 "cells": [
  {
   "cell_type": "code",
   "execution_count": 1,
   "id": "b0de1f5f",
   "metadata": {},
   "outputs": [],
   "source": [
    "# welcome to function session"
   ]
  },
  {
   "cell_type": "code",
   "execution_count": 2,
   "id": "ff2ecd4d",
   "metadata": {},
   "outputs": [],
   "source": [
    "def dex_func():  # declaration of function\n",
    "    print(\"welcome to DexploreX\")"
   ]
  },
  {
   "cell_type": "code",
   "execution_count": 4,
   "id": "0bd96b55",
   "metadata": {},
   "outputs": [
    {
     "name": "stdout",
     "output_type": "stream",
     "text": [
      "welcome to DexploreX\n"
     ]
    }
   ],
   "source": [
    "dex_func()#calling\n",
    "\n"
   ]
  },
  {
   "cell_type": "code",
   "execution_count": 5,
   "id": "ba021364",
   "metadata": {},
   "outputs": [
    {
     "name": "stdout",
     "output_type": "stream",
     "text": [
      "welcome to DexploreX\n",
      "welcome to DexploreX\n",
      "welcome to DexploreX\n",
      "welcome to DexploreX\n",
      "welcome to DexploreX\n",
      "welcome to DexploreX\n",
      "welcome to DexploreX\n",
      "welcome to DexploreX\n",
      "welcome to DexploreX\n",
      "welcome to DexploreX\n"
     ]
    }
   ],
   "source": [
    "for i in range(10):\n",
    "    dex_func()"
   ]
  },
  {
   "cell_type": "code",
   "execution_count": 6,
   "id": "0cf5c2bd",
   "metadata": {},
   "outputs": [],
   "source": [
    "# parameter\n",
    "\n",
    "def multiply(n1,n2):\n",
    "    result= n1*n2\n",
    "    print(\"the multiply of number is\",result)\n",
    "    "
   ]
  },
  {
   "cell_type": "code",
   "execution_count": 7,
   "id": "b0a0191a",
   "metadata": {},
   "outputs": [
    {
     "name": "stdout",
     "output_type": "stream",
     "text": [
      "the multiply of number is 6\n"
     ]
    }
   ],
   "source": [
    "multiply(2,3)\n"
   ]
  },
  {
   "cell_type": "code",
   "execution_count": 8,
   "id": "3a8abdc6",
   "metadata": {},
   "outputs": [
    {
     "name": "stdout",
     "output_type": "stream",
     "text": [
      "the multiply of number is 1541\n"
     ]
    }
   ],
   "source": [
    "multiply(67,23)"
   ]
  },
  {
   "cell_type": "code",
   "execution_count": 9,
   "id": "019d12a6",
   "metadata": {},
   "outputs": [
    {
     "name": "stdout",
     "output_type": "stream",
     "text": [
      "the multiply of number is 28\n"
     ]
    }
   ],
   "source": [
    "multiply(7,4)"
   ]
  },
  {
   "cell_type": "code",
   "execution_count": 10,
   "id": "d7dd04f4",
   "metadata": {},
   "outputs": [],
   "source": [
    "def threat(msg):\n",
    "    print(\"oye baz a jao\"+ msg)\n",
    "    "
   ]
  },
  {
   "cell_type": "code",
   "execution_count": 11,
   "id": "c878a51d",
   "metadata": {},
   "outputs": [
    {
     "name": "stdout",
     "output_type": "stream",
     "text": [
      "oye baz a jaowarna mar khao ga\n"
     ]
    }
   ],
   "source": [
    "threat(\"warna mar khao ga\")"
   ]
  },
  {
   "cell_type": "code",
   "execution_count": 12,
   "id": "b7089983",
   "metadata": {},
   "outputs": [],
   "source": [
    "def sum(a,b):\n",
    "    c=a+b\n",
    "    return c\n"
   ]
  },
  {
   "cell_type": "code",
   "execution_count": 15,
   "id": "18fb7a38",
   "metadata": {},
   "outputs": [
    {
     "name": "stdout",
     "output_type": "stream",
     "text": [
      "7\n"
     ]
    }
   ],
   "source": [
    "res_sum=sum(3,4)\n",
    "print(res_sum)"
   ]
  },
  {
   "cell_type": "code",
   "execution_count": null,
   "id": "6e1cb6b0",
   "metadata": {},
   "outputs": [],
   "source": []
  }
 ],
 "metadata": {
  "kernelspec": {
   "display_name": "Python 3 (ipykernel)",
   "language": "python",
   "name": "python3"
  },
  "language_info": {
   "codemirror_mode": {
    "name": "ipython",
    "version": 3
   },
   "file_extension": ".py",
   "mimetype": "text/x-python",
   "name": "python",
   "nbconvert_exporter": "python",
   "pygments_lexer": "ipython3",
   "version": "3.11.3"
  }
 },
 "nbformat": 4,
 "nbformat_minor": 5
}

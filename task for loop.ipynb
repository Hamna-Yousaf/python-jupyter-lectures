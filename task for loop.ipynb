{
 "cells": [
  {
   "cell_type": "code",
   "execution_count": 1,
   "id": "bb9f176e",
   "metadata": {},
   "outputs": [
    {
     "data": {
      "text/plain": [
       "list"
      ]
     },
     "execution_count": 1,
     "metadata": {},
     "output_type": "execute_result"
    }
   ],
   "source": [
    "makeup_item=[\"lipstic\",\"blusher\",\"foundation\",\"primer\",\"conceller\",]\n",
    "type(makeup_item)\n"
   ]
  },
  {
   "cell_type": "code",
   "execution_count": 2,
   "id": "f6f11f70",
   "metadata": {},
   "outputs": [
    {
     "name": "stdout",
     "output_type": "stream",
     "text": [
      "the makeup item is ['lipstic', 'blusher', 'foundation', 'primer', 'conceller']\n"
     ]
    }
   ],
   "source": [
    "print(\"the makeup item is\",makeup_item)"
   ]
  },
  {
   "cell_type": "code",
   "execution_count": 3,
   "id": "28422389",
   "metadata": {},
   "outputs": [
    {
     "name": "stdout",
     "output_type": "stream",
     "text": [
      "the makeup item is: lipstic\n",
      "the makeup item is: blusher\n",
      "the makeup item is: foundation\n",
      "the makeup item is: primer\n",
      "the makeup item is: conceller\n"
     ]
    }
   ],
   "source": [
    "for m in makeup_item:\n",
    "    print(\"the makeup item is:\",m)"
   ]
  },
  {
   "cell_type": "code",
   "execution_count": 4,
   "id": "169f2b03",
   "metadata": {},
   "outputs": [
    {
     "data": {
      "text/plain": [
       "5"
      ]
     },
     "execution_count": 4,
     "metadata": {},
     "output_type": "execute_result"
    }
   ],
   "source": [
    "len(makeup_item)"
   ]
  },
  {
   "cell_type": "code",
   "execution_count": 10,
   "id": "9f4728a4",
   "metadata": {},
   "outputs": [
    {
     "data": {
      "text/plain": [
       "['lipstic', 'blusher', 'foundation', 'primer', 'conceller', 'eyeshadow']"
      ]
     },
     "execution_count": 10,
     "metadata": {},
     "output_type": "execute_result"
    }
   ],
   "source": [
    "makeup_item.append(\"eyeshadow\")  #append\n",
    "makeup_item\n",
    "\n"
   ]
  },
  {
   "cell_type": "code",
   "execution_count": 12,
   "id": "87c63f90",
   "metadata": {},
   "outputs": [
    {
     "data": {
      "text/plain": [
       "['lipstic',\n",
       " 'blusher',\n",
       " 'foundation',\n",
       " 'primer',\n",
       " 'eyeliner',\n",
       " 'conceller',\n",
       " 'eyeshadow']"
      ]
     },
     "execution_count": 12,
     "metadata": {},
     "output_type": "execute_result"
    }
   ],
   "source": [
    "makeup_item.insert(4,\"eyeliner\")\n",
    "makeup_item"
   ]
  },
  {
   "cell_type": "code",
   "execution_count": 13,
   "id": "25bc4421",
   "metadata": {},
   "outputs": [
    {
     "name": "stdout",
     "output_type": "stream",
     "text": [
      "the length of makeup item is: 0\n",
      "the length of makeup item is: 1\n",
      "the length of makeup item is: 2\n",
      "the length of makeup item is: 3\n",
      "the length of makeup item is: 4\n",
      "the length of makeup item is: 5\n",
      "the length of makeup item is: 6\n"
     ]
    }
   ],
   "source": [
    "for m in range(len(makeup_item)):\n",
    "    print(\"the length of makeup item is:\",m)\n"
   ]
  },
  {
   "cell_type": "code",
   "execution_count": 14,
   "id": "5c0180dd",
   "metadata": {},
   "outputs": [],
   "source": [
    "# task\n"
   ]
  },
  {
   "cell_type": "code",
   "execution_count": null,
   "id": "2fcf6e6b",
   "metadata": {},
   "outputs": [],
   "source": [
    "makeup_item=input(\"please enter your makeup item:\")"
   ]
  },
  {
   "cell_type": "code",
   "execution_count": 31,
   "id": "49f76adf",
   "metadata": {},
   "outputs": [
    {
     "name": "stdout",
     "output_type": "stream",
     "text": [
      "please enter your makeup item:lipstic,foundation,conceller,blusher\n",
      "the makeup item is lipstic,foundation,conceller,blusher\n",
      "Do you want to add another item:primer\n",
      "no\n"
     ]
    }
   ],
   "source": []
  },
  {
   "cell_type": "code",
   "execution_count": null,
   "id": "e3de4848",
   "metadata": {},
   "outputs": [],
   "source": []
  },
  {
   "cell_type": "code",
   "execution_count": null,
   "id": "2cc09c51",
   "metadata": {},
   "outputs": [],
   "source": [
    "\n",
    "\n",
    "\n",
    "\n"
   ]
  },
  {
   "cell_type": "code",
   "execution_count": null,
   "id": "26b0dcc5",
   "metadata": {},
   "outputs": [],
   "source": [
    "\n",
    "\n"
   ]
  },
  {
   "cell_type": "code",
   "execution_count": null,
   "id": "b4ff5ca5",
   "metadata": {},
   "outputs": [],
   "source": [
    "\n"
   ]
  }
 ],
 "metadata": {
  "kernelspec": {
   "display_name": "Python 3 (ipykernel)",
   "language": "python",
   "name": "python3"
  },
  "language_info": {
   "codemirror_mode": {
    "name": "ipython",
    "version": 3
   },
   "file_extension": ".py",
   "mimetype": "text/x-python",
   "name": "python",
   "nbconvert_exporter": "python",
   "pygments_lexer": "ipython3",
   "version": "3.11.3"
  }
 },
 "nbformat": 4,
 "nbformat_minor": 5
}

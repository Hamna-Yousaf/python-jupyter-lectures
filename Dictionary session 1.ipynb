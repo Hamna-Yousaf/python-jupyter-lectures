{
 "cells": [
  {
   "cell_type": "code",
   "execution_count": 1,
   "id": "0ad63c30",
   "metadata": {},
   "outputs": [],
   "source": [
    "student1 = {\"name\":\"Hamna\",\"CNIC\":301200434,\"class\":\"BSCS\"}"
   ]
  },
  {
   "cell_type": "code",
   "execution_count": 6,
   "id": "aff024b3",
   "metadata": {},
   "outputs": [
    {
     "ename": "NameError",
     "evalue": "name 'k' is not defined",
     "output_type": "error",
     "traceback": [
      "\u001b[1;31m---------------------------------------------------------------------------\u001b[0m",
      "\u001b[1;31mNameError\u001b[0m                                 Traceback (most recent call last)",
      "Cell \u001b[1;32mIn[6], line 1\u001b[0m\n\u001b[1;32m----> 1\u001b[0m \u001b[38;5;28mprint\u001b[39m( k \u001b[38;5;129;01min\u001b[39;00m student1)\n",
      "\u001b[1;31mNameError\u001b[0m: name 'k' is not defined"
     ]
    }
   ],
   "source": []
  },
  {
   "cell_type": "code",
   "execution_count": 4,
   "id": "49dfe985",
   "metadata": {},
   "outputs": [
    {
     "data": {
      "text/plain": [
       "'Hamna'"
      ]
     },
     "execution_count": 4,
     "metadata": {},
     "output_type": "execute_result"
    }
   ],
   "source": [
    "student1[\"name\"]"
   ]
  },
  {
   "cell_type": "code",
   "execution_count": 8,
   "id": "3a655b47",
   "metadata": {},
   "outputs": [],
   "source": [
    "a={}"
   ]
  },
  {
   "cell_type": "code",
   "execution_count": 14,
   "id": "ba1f3e86",
   "metadata": {},
   "outputs": [
    {
     "data": {
      "text/plain": [
       "dict"
      ]
     },
     "execution_count": 14,
     "metadata": {},
     "output_type": "execute_result"
    }
   ],
   "source": [
    "type(a)"
   ]
  },
  {
   "cell_type": "code",
   "execution_count": 16,
   "id": "3d926411",
   "metadata": {},
   "outputs": [],
   "source": [
    "veg = {1:\"gobhi\",2:\"piyaz\",3:\"alu\"}"
   ]
  },
  {
   "cell_type": "code",
   "execution_count": 17,
   "id": "93067115",
   "metadata": {},
   "outputs": [
    {
     "name": "stdout",
     "output_type": "stream",
     "text": [
      "1\n",
      "2\n",
      "3\n"
     ]
    }
   ],
   "source": [
    "for v in veg:\n",
    "    print(v)"
   ]
  },
  {
   "cell_type": "code",
   "execution_count": 18,
   "id": "24bb8ce8",
   "metadata": {},
   "outputs": [
    {
     "name": "stdout",
     "output_type": "stream",
     "text": [
      "gobhi\n",
      "piyaz\n",
      "alu\n"
     ]
    }
   ],
   "source": [
    "for v in veg:\n",
    "    print(veg[v])"
   ]
  },
  {
   "cell_type": "code",
   "execution_count": 19,
   "id": "c5150c22",
   "metadata": {},
   "outputs": [],
   "source": [
    "def creating_dict():\n",
    "    veg = {1:\"gobhi\",2:\"piyaz\",3:\"alu\"}\n",
    "    for v in veg:\n",
    "        print(veg[v])"
   ]
  },
  {
   "cell_type": "code",
   "execution_count": 20,
   "id": "51718e62",
   "metadata": {},
   "outputs": [
    {
     "name": "stdout",
     "output_type": "stream",
     "text": [
      "gobhi\n",
      "piyaz\n",
      "alu\n"
     ]
    }
   ],
   "source": [
    "creating_dict()"
   ]
  },
  {
   "cell_type": "code",
   "execution_count": 21,
   "id": "6f267635",
   "metadata": {},
   "outputs": [],
   "source": [
    "# function in dict"
   ]
  },
  {
   "cell_type": "code",
   "execution_count": 22,
   "id": "aa62150f",
   "metadata": {},
   "outputs": [],
   "source": [
    " veg = {1:\"gobhi\",2:\"piyaz\",3:\"alu\"}\n"
   ]
  },
  {
   "cell_type": "code",
   "execution_count": 23,
   "id": "2135185d",
   "metadata": {},
   "outputs": [
    {
     "name": "stdout",
     "output_type": "stream",
     "text": [
      "gobhi\n",
      "piyaz\n",
      "alu\n"
     ]
    }
   ],
   "source": [
    "for k in veg.values(): # values function\n",
    "    print(k)"
   ]
  },
  {
   "cell_type": "code",
   "execution_count": 24,
   "id": "4c7c899c",
   "metadata": {},
   "outputs": [
    {
     "name": "stdout",
     "output_type": "stream",
     "text": [
      "1\n",
      "2\n",
      "3\n"
     ]
    }
   ],
   "source": [
    "for j in veg.keys(): # keys function\n",
    "    print(j)"
   ]
  },
  {
   "cell_type": "code",
   "execution_count": 25,
   "id": "67b0551b",
   "metadata": {},
   "outputs": [],
   "source": [
    "# function of dict\n",
    " # 1:  .values() # 2:  .keys()"
   ]
  },
  {
   "cell_type": "code",
   "execution_count": 26,
   "id": "a4dbdbb6",
   "metadata": {},
   "outputs": [],
   "source": [
    " veg = {1:\"gobhi\",2:\"piyaz\",3:\"alu\"}"
   ]
  },
  {
   "cell_type": "code",
   "execution_count": 27,
   "id": "cd2ee1f4",
   "metadata": {},
   "outputs": [],
   "source": [
    "veg[4] = \"tamator\""
   ]
  },
  {
   "cell_type": "code",
   "execution_count": 28,
   "id": "7c00b35e",
   "metadata": {},
   "outputs": [
    {
     "data": {
      "text/plain": [
       "{1: 'gobhi', 2: 'piyaz', 3: 'alu', 4: 'tamator'}"
      ]
     },
     "execution_count": 28,
     "metadata": {},
     "output_type": "execute_result"
    }
   ],
   "source": [
    "veg"
   ]
  },
  {
   "cell_type": "code",
   "execution_count": 29,
   "id": "3f5bb222",
   "metadata": {},
   "outputs": [
    {
     "name": "stdout",
     "output_type": "stream",
     "text": [
      "please enter value for key:1\n",
      "please enter value:pink\n"
     ]
    }
   ],
   "source": [
    "colour = dict()\n",
    "k = input(\"please enter value for key:\")\n",
    "v = input(\"please enter value:\")\n",
    "colour[k] = v"
   ]
  },
  {
   "cell_type": "code",
   "execution_count": 9,
   "id": "631d31a3",
   "metadata": {},
   "outputs": [
    {
     "name": "stdout",
     "output_type": "stream",
     "text": [
      "please enter value for key:ali\n",
      "please enter value:89\n",
      "89\n"
     ]
    }
   ],
   "source": [
    "contact = dict()\n",
    "name = input(\"please enter value for key:\")\n",
    "con = input(\"please enter value:\")\n",
    "print(con)"
   ]
  },
  {
   "cell_type": "code",
   "execution_count": 30,
   "id": "e70b7515",
   "metadata": {},
   "outputs": [],
   "source": [
    "colour = {1:\"pink\",2:\"black\",3:\"white\",4:\"green\"}"
   ]
  },
  {
   "cell_type": "code",
   "execution_count": 31,
   "id": "228e4535",
   "metadata": {},
   "outputs": [
    {
     "data": {
      "text/plain": [
       "{1: 'pink', 2: 'black', 3: 'white', 4: 'green'}"
      ]
     },
     "execution_count": 31,
     "metadata": {},
     "output_type": "execute_result"
    }
   ],
   "source": [
    "colour"
   ]
  },
  {
   "cell_type": "code",
   "execution_count": 33,
   "id": "0d5ec184",
   "metadata": {},
   "outputs": [
    {
     "name": "stdout",
     "output_type": "stream",
     "text": [
      "1\n",
      "2\n",
      "3\n",
      "4\n"
     ]
    }
   ],
   "source": [
    "for i in colour:\n",
    "    print(i)"
   ]
  },
  {
   "cell_type": "code",
   "execution_count": 34,
   "id": "dbb46441",
   "metadata": {},
   "outputs": [
    {
     "name": "stdout",
     "output_type": "stream",
     "text": [
      "pink\n",
      "black\n",
      "white\n",
      "green\n"
     ]
    }
   ],
   "source": [
    "for i in colour:\n",
    "    print(colour[i])\n"
   ]
  },
  {
   "cell_type": "code",
   "execution_count": 41,
   "id": "5c36ec3e",
   "metadata": {},
   "outputs": [
    {
     "name": "stdout",
     "output_type": "stream",
     "text": [
      "please enter value for key:1\n",
      "please enter value:pink\n",
      "please enter value for key:2\n",
      "please enter value:black\n",
      "please enter value for key:3\n",
      "please enter value:white\n",
      "please enter value for key:4\n",
      "please enter value:grey\n",
      "please enter value for key:5\n",
      "please enter value:blue\n"
     ]
    }
   ],
   "source": [
    "colour = dict()\n",
    "for i in range(5):\n",
    "    k = input(\"please enter value for key:\")\n",
    "    v = input(\"please enter value:\")\n",
    "    colour[k] = v   # this line add an element in dictionary\n"
   ]
  },
  {
   "cell_type": "code",
   "execution_count": 42,
   "id": "4a38b46f",
   "metadata": {},
   "outputs": [],
   "source": [
    "a = dict()"
   ]
  },
  {
   "cell_type": "code",
   "execution_count": 43,
   "id": "61b89169",
   "metadata": {},
   "outputs": [
    {
     "data": {
      "text/plain": [
       "{}"
      ]
     },
     "execution_count": 43,
     "metadata": {},
     "output_type": "execute_result"
    }
   ],
   "source": [
    "a"
   ]
  },
  {
   "cell_type": "code",
   "execution_count": 45,
   "id": "965453ee",
   "metadata": {},
   "outputs": [
    {
     "name": "stdout",
     "output_type": "stream",
     "text": [
      "please enter value:pink\n",
      "please enter value:blue\n",
      "please enter value:red\n",
      "please enter value:yellow\n"
     ]
    }
   ],
   "source": [
    "colour = dict()\n",
    "for i in range(1,5):\n",
    "    v = input(\"please enter value:\")\n",
    "    colour[i] = v \n"
   ]
  },
  {
   "cell_type": "code",
   "execution_count": 46,
   "id": "a704365f",
   "metadata": {},
   "outputs": [],
   "source": [
    " # function in dict\n",
    "    # 1:  .clear()  2:   .copy() 3:  .items()  4  .pop()  5:  .popitem() 3:  .update()"
   ]
  },
  {
   "cell_type": "code",
   "execution_count": 47,
   "id": "a7fb5448",
   "metadata": {},
   "outputs": [],
   "source": [
    "colour = {1:\"pink\",2:\"black\",3:\"white\",4:\"green\"}"
   ]
  },
  {
   "cell_type": "code",
   "execution_count": 48,
   "id": "8859e1a8",
   "metadata": {},
   "outputs": [],
   "source": [
    "colour.clear()"
   ]
  },
  {
   "cell_type": "code",
   "execution_count": 49,
   "id": "4e93ca6a",
   "metadata": {},
   "outputs": [
    {
     "data": {
      "text/plain": [
       "{}"
      ]
     },
     "execution_count": 49,
     "metadata": {},
     "output_type": "execute_result"
    }
   ],
   "source": [
    "colour"
   ]
  },
  {
   "cell_type": "code",
   "execution_count": 59,
   "id": "50fd86a6",
   "metadata": {},
   "outputs": [],
   "source": [
    "colour = {1:\"pink\",2:\"black\",3:\"white\",4:\"green\"}\n",
    "cl2 = colour.copy()"
   ]
  },
  {
   "cell_type": "code",
   "execution_count": 60,
   "id": "b62dd4df",
   "metadata": {},
   "outputs": [
    {
     "data": {
      "text/plain": [
       "{1: 'pink', 2: 'black', 3: 'white', 4: 'green'}"
      ]
     },
     "execution_count": 60,
     "metadata": {},
     "output_type": "execute_result"
    }
   ],
   "source": [
    "colour"
   ]
  },
  {
   "cell_type": "code",
   "execution_count": 63,
   "id": "b0adb5d2",
   "metadata": {},
   "outputs": [
    {
     "data": {
      "text/plain": [
       "dict_items([(1, 'pink'), (2, 'black'), (3, 'white'), (4, 'green')])"
      ]
     },
     "execution_count": 63,
     "metadata": {},
     "output_type": "execute_result"
    }
   ],
   "source": [
    "colour = {1:\"pink\",2:\"black\",3:\"white\",4:\"green\"}\n",
    "colour.items()   #  return whole pair"
   ]
  },
  {
   "cell_type": "code",
   "execution_count": 65,
   "id": "b94b885c",
   "metadata": {},
   "outputs": [
    {
     "data": {
      "text/plain": [
       "dict_keys([1, 2, 3, 4])"
      ]
     },
     "execution_count": 65,
     "metadata": {},
     "output_type": "execute_result"
    }
   ],
   "source": [
    "colour.keys()"
   ]
  },
  {
   "cell_type": "code",
   "execution_count": 66,
   "id": "94929030",
   "metadata": {},
   "outputs": [
    {
     "data": {
      "text/plain": [
       "dict_values(['pink', 'black', 'white', 'green'])"
      ]
     },
     "execution_count": 66,
     "metadata": {},
     "output_type": "execute_result"
    }
   ],
   "source": [
    "colour.values()"
   ]
  },
  {
   "cell_type": "code",
   "execution_count": 67,
   "id": "e91e068e",
   "metadata": {},
   "outputs": [],
   "source": [
    "colour.update(veg)  # colour turns into veg"
   ]
  },
  {
   "cell_type": "code",
   "execution_count": 68,
   "id": "4bfaedca",
   "metadata": {},
   "outputs": [
    {
     "data": {
      "text/plain": [
       "{1: 'gobhi', 2: 'piyaz', 3: 'alu', 4: 'tamator'}"
      ]
     },
     "execution_count": 68,
     "metadata": {},
     "output_type": "execute_result"
    }
   ],
   "source": [
    "colour"
   ]
  },
  {
   "cell_type": "code",
   "execution_count": 69,
   "id": "c976eca7",
   "metadata": {},
   "outputs": [
    {
     "data": {
      "text/plain": [
       "'gobhi'"
      ]
     },
     "execution_count": 69,
     "metadata": {},
     "output_type": "execute_result"
    }
   ],
   "source": [
    "colour.pop(1)"
   ]
  },
  {
   "cell_type": "code",
   "execution_count": 70,
   "id": "3b138135",
   "metadata": {},
   "outputs": [
    {
     "data": {
      "text/plain": [
       "(4, 'tamator')"
      ]
     },
     "execution_count": 70,
     "metadata": {},
     "output_type": "execute_result"
    }
   ],
   "source": [
    "colour.popitem()"
   ]
  },
  {
   "cell_type": "code",
   "execution_count": 71,
   "id": "f6d16ec6",
   "metadata": {},
   "outputs": [
    {
     "data": {
      "text/plain": [
       "'alu'"
      ]
     },
     "execution_count": 71,
     "metadata": {},
     "output_type": "execute_result"
    }
   ],
   "source": [
    "colour.get(3)  # .pop and .get is same"
   ]
  },
  {
   "cell_type": "code",
   "execution_count": 1,
   "id": "06446f54",
   "metadata": {},
   "outputs": [],
   "source": [
    "a = dict()"
   ]
  },
  {
   "cell_type": "code",
   "execution_count": 2,
   "id": "445c35be",
   "metadata": {},
   "outputs": [
    {
     "data": {
      "text/plain": [
       "{}"
      ]
     },
     "execution_count": 2,
     "metadata": {},
     "output_type": "execute_result"
    }
   ],
   "source": [
    "a"
   ]
  },
  {
   "cell_type": "code",
   "execution_count": 3,
   "id": "b42746d1",
   "metadata": {},
   "outputs": [
    {
     "data": {
      "text/plain": [
       "dict"
      ]
     },
     "execution_count": 3,
     "metadata": {},
     "output_type": "execute_result"
    }
   ],
   "source": [
    "type(a)"
   ]
  },
  {
   "cell_type": "code",
   "execution_count": 19,
   "id": "f93b6f55",
   "metadata": {},
   "outputs": [],
   "source": [
    "def create_dict():\n",
    "    make_up = {1:\"lipstick\",2:\"blusher\",3:\"foundation\",4:\"primer\"}\n",
    "    for i in make_up:\n",
    "        print(make_up[i])       "
   ]
  },
  {
   "cell_type": "code",
   "execution_count": 20,
   "id": "8086ca93",
   "metadata": {},
   "outputs": [
    {
     "name": "stdout",
     "output_type": "stream",
     "text": [
      "lipstick\n",
      "blusher\n",
      "foundation\n",
      "primer\n"
     ]
    }
   ],
   "source": [
    "create_dict()"
   ]
  },
  {
   "cell_type": "raw",
   "id": "e0d6113a",
   "metadata": {},
   "source": []
  },
  {
   "cell_type": "raw",
   "id": "66f5e8bf",
   "metadata": {},
   "source": []
  }
 ],
 "metadata": {
  "kernelspec": {
   "display_name": "Python 3 (ipykernel)",
   "language": "python",
   "name": "python3"
  },
  "language_info": {
   "codemirror_mode": {
    "name": "ipython",
    "version": 3
   },
   "file_extension": ".py",
   "mimetype": "text/x-python",
   "name": "python",
   "nbconvert_exporter": "python",
   "pygments_lexer": "ipython3",
   "version": "3.11.3"
  }
 },
 "nbformat": 4,
 "nbformat_minor": 5
}
